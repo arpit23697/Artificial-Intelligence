{
 "cells": [
  {
   "cell_type": "code",
   "execution_count": 1,
   "metadata": {},
   "outputs": [],
   "source": [
    "#import all the libraries\n",
    "import math\n",
    "import random\n",
    "import numpy as np\n",
    "import matplotlib.pyplot as plt"
   ]
  },
  {
   "cell_type": "code",
   "execution_count": 2,
   "metadata": {},
   "outputs": [],
   "source": [
    "#initialising all the global varaibles\n",
    "\n",
    "TOTAL_LOCATIONS = 3\n",
    "\n",
    "MAX_CAR_LOC1 = 10\n",
    "MAX_CAR_LOC2 = 10\n",
    "MAX_CAR_LOC3 = 0\n",
    "\n",
    "MAX_CAR = [10 , 10 , 0]\n",
    "\n",
    "LAMBDA_REQ_LOC1 = 3\n",
    "LAMBDA_REQ_LOC2 = 4\n",
    "LAMBDA_REQ_LOC3 = 2\n",
    "\n",
    "LAMBDA_RETURN_LOC1 = 3\n",
    "LAMBDA_RETURN_LOC2 = 2\n",
    "LAMBDA_RETURN_LOC3 = 1\n",
    "\n",
    "MAX_CAR_SHIFT = 5\n",
    "\n",
    "GAMMA = 0.9\n",
    "\n",
    "CAR_REQUEST_REWARD = 10\n",
    "CAR_MOVE_COST_LOC1_LOC2 = -2\n",
    "CAR_MOVE_COST_LOC2_LOC3 = 0\n",
    "CAR_MOVE_COST_LOC1_LOC3 = -2\n",
    "\n",
    "THRESHOLD_CONVERGENCE = 0.001\n",
    "POISSON = 11\n",
    "\n",
    "P_BACKUP = {}"
   ]
  },
  {
   "cell_type": "code",
   "execution_count": 3,
   "metadata": {},
   "outputs": [
    {
     "name": "stdout",
     "output_type": "stream",
     "text": [
      "Size of action space :  126\n",
      "Size of state space :  121\n",
      "Size of state values :  (11, 11, 1)\n"
     ]
    }
   ],
   "source": [
    "#this is for the state space\n",
    "state_space = []\n",
    "\n",
    "for x in range(MAX_CAR_LOC1 + 1):\n",
    "    for y in range(MAX_CAR_LOC2 + 1):\n",
    "        for z in range(MAX_CAR_LOC3 + 1):\n",
    "            state_space.append((x , y , z))\n",
    "            \n",
    "\n",
    "#for the state values\n",
    "state_values = np.zeros((MAX_CAR_LOC1+1 , MAX_CAR_LOC2+1 , MAX_CAR_LOC3+1))\n",
    "policy = np.zeros((MAX_CAR_LOC1+1 , MAX_CAR_LOC2+1 , MAX_CAR_LOC3+1))\n",
    "#action space\n",
    "\n",
    "#action is also a four tuple:\n",
    "    #first element : Gives the first location\n",
    "    #second element : Gives the second location\n",
    "    #third element : Number of cars to be moved from first location to third location\n",
    "    #fourth element : Number of cars to be moved from second location to third location\n",
    "    \n",
    "action_space = []\n",
    "\n",
    "for x in range(TOTAL_LOCATIONS):\n",
    "    for y in range(x+1 , TOTAL_LOCATIONS):\n",
    "        for a in range(MAX_CAR_SHIFT + 1):\n",
    "            for b in range(5 - a + 1):\n",
    "                action_space.append( (x , y , a , b) )\n",
    "                action_space.append( (y , x , a , b) )\n",
    "\n",
    "action_space = sorted(action_space)\n",
    "\n",
    "#for the size of action space and the state space\n",
    "print(\"Size of action space : \" , len(action_space) )\n",
    "print(\"Size of state space : \" , len(state_space))\n",
    "print(\"Size of state values : \" , state_values.shape )\n",
    "\n",
    "#print(action_space)"
   ]
  },
  {
   "cell_type": "code",
   "execution_count": 4,
   "metadata": {},
   "outputs": [],
   "source": [
    "#given the value of the x and the lambda it will give the probability of the distribution\n",
    "def poisson (x , lam):\n",
    "    global P_BACKUP\n",
    "    key = (x , lam)\n",
    "    if key not in P_BACKUP.keys():\n",
    "        P_BACKUP[key] = np.exp(-lam) * pow(lam , x) / math.factorial(x)\n",
    "    \n",
    "    return P_BACKUP[key]"
   ]
  },
  {
   "cell_type": "code",
   "execution_count": 5,
   "metadata": {},
   "outputs": [],
   "source": [
    "#given an action it will check if the given action is valid or not in that particular state\n",
    "\n",
    "\n",
    "#action is also a four tuple:\n",
    "    #first element : Gives the first location\n",
    "    #second element : Gives the second location\n",
    "    #third element : Number of cars to be moved from first location to third location\n",
    "    #fourth element : Number of cars to be moved from second location to third location\n",
    "\n",
    "def action_valid (action , state):\n",
    "    \n",
    "    #extract the values\n",
    "    car1 , car2 , car3 = state\n",
    "    loc1 , loc2 , move_13 , move_23 = action\n",
    "    \n",
    "    #the action will be invalid if the cars at particular location is less than it want to sent to \n",
    "    #other location\n",
    "    \n",
    "    if (state[loc1] < move_13):\n",
    "        return False\n",
    "    \n",
    "    if (state[loc2] < move_23):\n",
    "        return False\n",
    "    \n",
    "    return True\n",
    "    "
   ]
  },
  {
   "cell_type": "code",
   "execution_count": 6,
   "metadata": {},
   "outputs": [],
   "source": [
    "#Given the state and the action it will return the new state\n",
    "#Note this function do not check if the action is valid or not in that particular state\n",
    "#this will also return the reward\n",
    "\n",
    "def other_location (loc1 , loc2):\n",
    "    return (3 - (loc1 + loc2))\n",
    "    \n",
    "\n",
    "\n",
    "\n",
    "def next_state (action , state):\n",
    "    loc1 , loc2 , move_13 , move_23 = action\n",
    "    \n",
    "    #this is the third location\n",
    "    loc3 = other_location(loc1 , loc2)\n",
    "    \n",
    "    #now move the cars from loc1 to loc3 and loc2 to loc3\n",
    "    new_state = [-1 , -1 , -1]\n",
    "    \n",
    "    new_state[loc1] = state[loc1] - move_13\n",
    "    new_state[loc2] = state[loc2] - move_23\n",
    "    \n",
    "    new_state[loc3] = state[loc3] + move_13 + move_23\n",
    "    new_state[loc3] = min(new_state[loc3] , MAX_CAR[loc3] )\n",
    "\n",
    "    reward = 0\n",
    "    if ( (loc1 == 0 and loc3 == 1) or (loc1 == 1 and loc3 == 0)):\n",
    "        reward += move_13 * CAR_MOVE_COST_LOC1_LOC2\n",
    "    elif ((loc1 == 0 and loc3 == 2) or (loc1 == 2 and loc3 == 0)):\n",
    "        reward += move_13 * CAR_MOVE_COST_LOC1_LOC3\n",
    "    elif((loc1 == 1 and loc3 == 2) or (loc1 == 2 and loc3 == 1)):\n",
    "        reward += move_13 * CAR_MOVE_COST_LOC2_LOC3\n",
    "        \n",
    "    if ( (loc2 == 0 and loc3 == 1) or (loc2 == 1 and loc3 == 0)):\n",
    "        reward += move_23 * CAR_MOVE_COST_LOC1_LOC2\n",
    "    elif ((loc2 == 0 and loc3 == 2) or (loc2 == 2 and loc3 == 0)):\n",
    "        reward += move_23 * CAR_MOVE_COST_LOC1_LOC3\n",
    "    elif((loc2 == 1 and loc3 == 2) or (loc2 == 2 and loc3 == 1)):\n",
    "        reward += move_23 * CAR_MOVE_COST_LOC2_LOC3\n",
    "    \n",
    "    \n",
    "    \n",
    "    return (new_state[0] , new_state[1] , new_state[2] , reward)\n",
    "    "
   ]
  },
  {
   "cell_type": "code",
   "execution_count": 7,
   "metadata": {},
   "outputs": [],
   "source": [
    "#given the state and the action this will give the new value of taking that action in that state\n",
    "#note this function is not going to check the validity of the action\n",
    "#it will just return the new value of the state given the state and the action\n",
    "\n",
    "\n",
    "def new_state_value (action , state , state_values):\n",
    "    \n",
    "    ret = -1\n",
    "    #after moving the cars what is the cost of moving and the next state n_state\n",
    "    cars_loc1 , cars_loc2 , cars_loc3, ret = next_state(action , state)\n",
    "    n_state = (cars_loc1 , cars_loc2, cars_loc3)\n",
    "    \n",
    "    #from n_state go to all the states with poisson distribution and accumulate the reward\n",
    "    \n",
    "    #rentals mean they will give this many car to the values\n",
    "    #if request is greater than cars available then request changes to cars available\n",
    "    for rentals_loc1 in range(0 , POISSON):\n",
    "        for rentals_loc2 in range(0 , POISSON):\n",
    "            for rentals_loc3 in range(0 , MAX_CAR_LOC3 + 1):\n",
    "                rental_prob = poisson(rentals_loc1 , LAMBDA_REQ_LOC1) * poisson(rentals_loc2 , LAMBDA_REQ_LOC2) * poisson(rentals_loc3 , LAMBDA_REQ_LOC3) \n",
    "                \n",
    "                total_rental_loc1 = min(cars_loc1 , rentals_loc1)\n",
    "                total_rental_loc2 = min(cars_loc2 , rentals_loc2)\n",
    "                total_rental_loc3 = min(cars_loc3 , rentals_loc3)\n",
    "                \n",
    "                rewards = (total_rental_loc1 + total_rental_loc2 + total_rental_loc3) * CAR_REQUEST_REWARD\n",
    "                \n",
    "                for returns_loc1 in range(0 , POISSON):\n",
    "                    for returns_loc2 in range(0 , POISSON):\n",
    "                        for returns_loc3 in range(0 , MAX_CAR_LOC3 + 1):\n",
    "                            \n",
    "                            return_prob = poisson(returns_loc1 , LAMBDA_RETURN_LOC1) * poisson(returns_loc2 , LAMBDA_RETURN_LOC2) * poisson(returns_loc3 , LAMBDA_RETURN_LOC3)\n",
    "                            prob = return_prob * rental_prob\n",
    "                            \n",
    "                            next_state1 = min (MAX_CAR_LOC1 , cars_loc1 - total_rental_loc1 + returns_loc1)\n",
    "                            next_state2 = min(MAX_CAR_LOC2 , cars_loc2 - total_rental_loc2 + returns_loc2)\n",
    "                            next_state3 = min(MAX_CAR_LOC3 , cars_loc3 - total_rental_loc3 + returns_loc3)\n",
    "                            \n",
    "                            next_st = (next_state1 , next_state2 , next_state3)\n",
    "                            ret += prob * (rewards + GAMMA * state_values[next_st])\n",
    "                            \n",
    "                            \n",
    "    \n",
    "    \n",
    "    return ret"
   ]
  },
  {
   "cell_type": "code",
   "execution_count": 8,
   "metadata": {},
   "outputs": [
    {
     "name": "stdout",
     "output_type": "stream",
     "text": [
      "(7, 0, 0, -8)\n"
     ]
    }
   ],
   "source": [
    "action = (1 , 2 , 2 , 2)\n",
    "state = (3, 2 , 2)\n",
    "\n",
    "print(next_state(action , state))"
   ]
  },
  {
   "cell_type": "code",
   "execution_count": 9,
   "metadata": {},
   "outputs": [
    {
     "name": "stdout",
     "output_type": "stream",
     "text": [
      "2.9256540056486346\n"
     ]
    }
   ],
   "source": [
    "action = (0 , 1 , 0 , 0)\n",
    "state = (4, 4 , 0)\n",
    "\n",
    "print(new_state_value(action , state , state_values))"
   ]
  },
  {
   "cell_type": "code",
   "execution_count": 10,
   "metadata": {},
   "outputs": [],
   "source": [
    "#this is synchronous update\n",
    "#this will return the optimal value function\n",
    "\n",
    "#given the old state values it will give the new state values after one complete iteration\n",
    "\n",
    "def value_iteration(state_values , policy):\n",
    "    \n",
    "    #for all the states take all the actions\n",
    "    threshold = -math.inf\n",
    "    \n",
    "    for s , state in zip(range(len(state_space)) , state_space): \n",
    "        new_value = []\n",
    "        if (s % 20 == 0):\n",
    "            print(s)\n",
    "        for action in action_space:\n",
    "            \n",
    "            temp = -1\n",
    "            if(action_valid(action , state)):\n",
    "                temp = new_state_value(action , state , state_values)\n",
    "                new_value.append(temp)\n",
    "                \n",
    "            else:\n",
    "                new_value.append(-math.inf)\n",
    "                \n",
    "        optimal_value = max(new_value)\n",
    "        optimal_action = np.argmax(new_value)\n",
    "        \n",
    "        threshold = max(threshold , abs(state_values[state] - optimal_value) )\n",
    "        \n",
    "        #this is updating as soon as you get answer\n",
    "        state_values[state] = optimal_value\n",
    "        policy[state] = optimal_action\n",
    "        \n",
    "    return (threshold , state_values , policy)\n",
    "            "
   ]
  },
  {
   "cell_type": "code",
   "execution_count": 11,
   "metadata": {},
   "outputs": [
    {
     "name": "stdout",
     "output_type": "stream",
     "text": [
      "Number of iterations :  1 inf\n",
      "0\n",
      "20\n",
      "40\n",
      "60\n",
      "80\n",
      "100\n",
      "120\n",
      "Number of iterations :  1 3.597217511324793\n",
      "Number of iterations :  2 3.597217511324793\n",
      "0\n",
      "20\n",
      "40\n",
      "60\n",
      "80\n",
      "100\n",
      "120\n",
      "Number of iterations :  2 0.12907884053812602\n",
      "Number of iterations :  3 0.12907884053812602\n",
      "0\n",
      "20\n",
      "40\n",
      "60\n",
      "80\n",
      "100\n",
      "120\n",
      "Number of iterations :  3 0.00365076997692082\n",
      "Number of iterations :  4 0.00365076997692082\n",
      "0\n",
      "20\n",
      "40\n",
      "60\n",
      "80\n",
      "100\n",
      "120\n",
      "Number of iterations :  4 9.06523291850092e-05\n"
     ]
    }
   ],
   "source": [
    "threshold = math.inf\n",
    "\n",
    "num_of_iterations = 0\n",
    "while (threshold > THRESHOLD_CONVERGENCE):\n",
    "    num_of_iterations += 1\n",
    "    print(\"Number of iterations : \" , num_of_iterations , threshold)\n",
    "    threshold , state_values , policy = value_iteration(state_values , policy)\n",
    "    print(\"Number of iterations : \" , num_of_iterations , threshold)"
   ]
  },
  {
   "cell_type": "code",
   "execution_count": 12,
   "metadata": {
    "scrolled": true
   },
   "outputs": [
    {
     "name": "stdout",
     "output_type": "stream",
     "text": [
      "[[0.08816559 0.57551436 1.02754565 1.40875045 1.69511633 1.88598641\n",
      "  1.99958093 2.06065368 2.09070686 2.1043483  2.10996363]\n",
      " [0.56008507 1.04743389 1.49946525 1.8806701  2.16703601 2.35790609\n",
      "  2.4715006  2.53257334 2.56262651 2.57626795 2.58188328]\n",
      " [0.95910766 1.44645649 1.89848787 2.27969272 2.56605861 2.75692868\n",
      "  2.87052318 2.9315959  2.96164907 2.9752905  2.98090583]\n",
      " [1.24840464 1.73575344 2.18778478 2.5689896  2.85535548 3.04622553\n",
      "  3.15982002 3.22089274 3.2509459  3.26458732 3.27020265]\n",
      " [1.42738356 1.91473234 2.36676366 2.74796845 3.03433431 3.22520436\n",
      "  3.33879885 3.39987156 3.42992472 3.44356615 3.44918148]\n",
      " [1.52291051 2.01025929 2.46229058 2.84349537 3.12986123 3.32073127\n",
      "  3.43432576 3.49539847 3.52545164 3.53909307 3.5447084 ]\n",
      " [1.56765935 2.05500813 2.50703942 2.8882442  3.17461005 3.3654801\n",
      "  3.47907459 3.54014731 3.57020047 3.5838419  3.58945723]\n",
      " [1.58642007 2.07376884 2.52580013 2.90700491 3.19337076 3.38424081\n",
      "  3.4978353  3.55890801 3.58896118 3.6026026  3.60821794]\n",
      " [1.59359736 2.08094612 2.53297741 2.91418218 3.20054803 3.39141808\n",
      "  3.50501257 3.56608528 3.59613844 3.60977987 3.6153952 ]\n",
      " [1.59613433 2.0834831  2.53551437 2.91671914 3.20308499 3.39395504\n",
      "  3.50754953 3.56862224 3.59867539 3.61231681 3.61793213]\n",
      " [1.59694565 2.08429446 2.53632579 2.91753057 3.2038964  3.39476642\n",
      "  3.50836087 3.56943356 3.5994867  3.61312811 3.61874342]]\n"
     ]
    }
   ],
   "source": [
    "print(state_values[: , : , 0])"
   ]
  },
  {
   "cell_type": "code",
   "execution_count": 14,
   "metadata": {},
   "outputs": [
    {
     "data": {
      "image/png": "[encoded data removed]",
      "text/plain": [
       "<Figure size 720x432 with 2 Axes>"
      ]
     },
     "metadata": {},
     "output_type": "display_data"
    }
   ],
   "source": [
    "from mpl_toolkits.mplot3d import Axes3D\n",
    "import matplotlib.pyplot as plt\n",
    "import numpy as np\n",
    "\n",
    "X = np.arange(0, 11)\n",
    "Y = np.arange(0, 11)\n",
    "X, Y = np.meshgrid(X, Y)\n",
    "Z = state_values[X , Y , 0]\n",
    "fig = plt.figure(figsize= (10 , 6))\n",
    "\n",
    "\n",
    "ax = fig.gca(projection='3d')\n",
    "surf = ax.plot_surface(X, Y, Z, rstride=1, cstride=1, cmap='hot', linewidth=0, antialiased=False)\n",
    "ax.set_zlim(0, 5)\n",
    "\n",
    "\n",
    "fig.colorbar(surf, shrink=0.5, aspect=5)\n",
    "plt.show()"
   ]
  },
  {
   "cell_type": "code",
   "execution_count": null,
   "metadata": {},
   "outputs": [],
   "source": []
  }
 ],
 "metadata": {
  "kernelspec": {
   "display_name": "Python 3",
   "language": "python",
   "name": "python3"
  },
  "language_info": {
   "codemirror_mode": {
    "name": "ipython",
    "version": 3
   },
   "file_extension": ".py",
   "mimetype": "text/x-python",
   "name": "python",
   "nbconvert_exporter": "python",
   "pygments_lexer": "ipython3",
   "version": "3.6.5"
  }
 },
 "nbformat": 4,
 "nbformat_minor": 2
}
