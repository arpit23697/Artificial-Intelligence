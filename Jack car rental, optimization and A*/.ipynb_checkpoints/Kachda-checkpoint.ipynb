{
 "cells": [
  {
   "cell_type": "code",
   "execution_count": 1,
   "metadata": {},
   "outputs": [],
   "source": [
    "#given an action it will check if the given action is valid or not in that particular state\n",
    "#it may be noted here that the state is a three tuple that gives the number of cars at each location\n",
    "#action is also a three tuple:\n",
    "    #first element : number of cars to be moved from loc1 to loc2\n",
    "    #second element : number of cars to be moved from loc2 to loc3\n",
    "    #third element number of cars to be moved from loc1 to loc3\n",
    "def action_valid (action , state):\n",
    "    \n",
    "    #extract the values\n",
    "    car1 , car2 , car3 = state\n",
    "    loc1_loc2 , loc2_loc3 , loc1_loc3 = action\n",
    "    \n",
    "    #any car cannot move more than it have already\n",
    "    if (loc1_loc2 >= 0 and car1 < loc1_loc2):\n",
    "        return False\n",
    "    \n",
    "    if (loc1_loc2 < 0 and car2 < np.absolute(loc1_loc2)):\n",
    "        return False\n",
    "    \n",
    "    if (loc2_loc3 >= 0 and car2 < loc2_loc3):\n",
    "        return False\n",
    "    \n",
    "    if (loc2_loc3 < 0 and car3 < np.absolute(loc2_loc3)):\n",
    "        return False\n",
    "    \n",
    "    if (loc1_loc3 >= 0 and car1 < loc1_loc3):\n",
    "        return False\n",
    "    \n",
    "    if (loc1_loc3 < 0 and car3 < np.absolute(loc1_loc3)):\n",
    "        return False\n",
    "    \n",
    "    return True"
   ]
  },
  {
   "cell_type": "code",
   "execution_count": null,
   "metadata": {},
   "outputs": [],
   "source": []
  }
 ],
 "metadata": {
  "kernelspec": {
   "display_name": "Python 3",
   "language": "python",
   "name": "python3"
  },
  "language_info": {
   "codemirror_mode": {
    "name": "ipython",
    "version": 3
   },
   "file_extension": ".py",
   "mimetype": "text/x-python",
   "name": "python",
   "nbconvert_exporter": "python",
   "pygments_lexer": "ipython3",
   "version": "3.6.5"
  }
 },
 "nbformat": 4,
 "nbformat_minor": 2
}
