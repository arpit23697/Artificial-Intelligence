{
 "cells": [
  {
   "cell_type": "code",
   "execution_count": 1,
   "metadata": {},
   "outputs": [],
   "source": [
    "import pandas as pd\n",
    "import numpy as np\n",
    "import math\n",
    "from collections import defaultdict\n",
    "import queue\n",
    "import heapq"
   ]
  },
  {
   "cell_type": "code",
   "execution_count": 2,
   "metadata": {},
   "outputs": [],
   "source": [
    "\n",
    "#class for the environment of the n^2 -1 puzzle\n",
    "#this is also going to have the function for the parity check\n",
    "class puzzle : \n",
    "    def __init__(self):\n",
    "        n = int(input(\"Enter the dimension of the matrix : \"))\n",
    "        self.dimension = n\n",
    "        self.mat = np.zeros((self.dimension , self.dimension))\n",
    "        self.red_x = -1\n",
    "        self.red_y = -1\n",
    "    #this is to take the matrix as the input \n",
    "    #in order to take the blank we take * as the input\n",
    "    def enter_matrix(self):\n",
    "        print(\"Enter the elements of the matrix : \")\n",
    "        for i in range(self.dimension):\n",
    "            temp  = input().strip().split()\n",
    "            for j , x in zip(range(self.dimension) , temp):\n",
    "                if (int(x) == 2):                    #symbol for the red block\n",
    "                    self.mat[i , j] = 2\n",
    "                    self.red_x = i\n",
    "                    self.red_y = j\n",
    "                else:\n",
    "                    self.mat[i , j] = int(x)\n",
    "    \n",
    "    \n",
    "    def duplicate(self , matrix):\n",
    "            self.mat = np.copy(matrix)\n",
    "            for i in range(self.dimension):\n",
    "                for j in range(self.dimension):\n",
    "                    if (self.mat[i , j] == 2):\n",
    "                        self.red_x = i\n",
    "                        self.red_y = j\n",
    "                        \n",
    "                        \n",
    "    def isValid (self, x , y):\n",
    "        if (x >= 0 and x < self.dimension  and y >=0 and y < self.dimension):\n",
    "            return True\n",
    "        return False\n",
    "    \n",
    "    \n",
    "    #1 for left\n",
    "    #2 for right\n",
    "    #3 for up\n",
    "    #4 for down\n",
    "    \n",
    "    #0 for blocked block\n",
    "    #2 for red block\n",
    "    #1 for empty block\n",
    "    def get_new (self, x , y , action):\n",
    "        movements = [(0, -1), (0, 1) , (-1 , 0) , (1 , 0)]\n",
    "        move_x , move_y = movements [action - 1]\n",
    "        return (x + move_x , y+move_y)\n",
    "    \n",
    "    \n",
    "    def movement_coordinates( self , x , y , action , reverse):\n",
    "        \n",
    "        if (self.mat[x,y] == 0):           #this is the block\n",
    "            return False\n",
    "        if (reverse == False):\n",
    "            movements = [(0, -1), (0, 1) , (-1 , 0) , (1 , 0)]        \n",
    "        else:\n",
    "            movements = [(0 , 1) , (0 , -1 ) , (1 , 0) , (-1 , 0)]\n",
    "        move_x , move_y = movements [action - 1]\n",
    "        \n",
    "        new_x = move_x + x\n",
    "        new_y = move_y + y\n",
    "        \n",
    "        if (not self.isValid(new_x , new_y)):\n",
    "            return False\n",
    "        \n",
    "        \n",
    "        #if the current block is the red space\n",
    "        if (self.mat[x , y] == 2):\n",
    "            if (self.mat[new_x , new_y] == 1):     #if the new block is empty\n",
    "                self.mat[new_x][new_y] = 2\n",
    "                self.mat[x][y] = 1\n",
    "                self.red_x = new_x\n",
    "                self.red_y = new_y\n",
    "                return True\n",
    "            else:\n",
    "                return False\n",
    "        \n",
    "        #if the current block is the white space\n",
    "        if (self.mat[x , y] == 1):\n",
    "            if (self.mat[new_x][new_y] == 2):          #we are moving the red block as well\n",
    "                self.mat[new_x][new_y] = 1\n",
    "                self.mat[x , y] = 2\n",
    "                self.red_x = x\n",
    "                self.red_y = y\n",
    "                return True\n",
    "            \n",
    "            elif (self.mat[new_x][new_y] == 0):\n",
    "                self.mat[new_x][new_y] = 1\n",
    "                self.mat[x][y] = 0\n",
    "                return True\n",
    "            else:\n",
    "                return False\n",
    "\n",
    "    def goal_satisfied (self):\n",
    "        if (self.mat[0 , self.dimension - 1] == 2):\n",
    "            return True\n",
    "        return False\n",
    "            \n",
    "\n",
    "\n",
    "    \n",
    "    #this is to return the manhattan heuristic\n",
    "    def h_manhattan (self):\n",
    "        return (self.red_x + self.red_y)\n",
    "                    "
   ]
  },
  {
   "cell_type": "code",
   "execution_count": 3,
   "metadata": {},
   "outputs": [
    {
     "name": "stdout",
     "output_type": "stream",
     "text": [
      "Enter the dimension of the matrix : 3\n",
      "Enter the elements of the matrix : \n",
      "1 0 0\n",
      "0 1 0\n",
      "0 0 2\n",
      "The matrix is : \n",
      "[[1. 0. 0.]\n",
      " [0. 1. 0.]\n",
      " [0. 0. 2.]]\n"
     ]
    }
   ],
   "source": [
    "env = puzzle()\n",
    "env.enter_matrix()\n",
    "print(\"The matrix is : \")\n",
    "print(env.mat)\n",
    "start = np.copy(env.mat)"
   ]
  },
  {
   "cell_type": "code",
   "execution_count": 4,
   "metadata": {},
   "outputs": [
    {
     "name": "stdout",
     "output_type": "stream",
     "text": [
      "False\n"
     ]
    }
   ],
   "source": [
    "print(env.goal_satisfied())"
   ]
  },
  {
   "cell_type": "code",
   "execution_count": 5,
   "metadata": {
    "scrolled": true
   },
   "outputs": [
    {
     "name": "stdout",
     "output_type": "stream",
     "text": [
      "2 2\n"
     ]
    }
   ],
   "source": [
    "print(env.red_x , env.red_y)"
   ]
  },
  {
   "cell_type": "code",
   "execution_count": 6,
   "metadata": {},
   "outputs": [
    {
     "name": "stdout",
     "output_type": "stream",
     "text": [
      "3\n"
     ]
    }
   ],
   "source": [
    "print(env.dimension)"
   ]
  },
  {
   "cell_type": "code",
   "execution_count": 7,
   "metadata": {
    "scrolled": true
   },
   "outputs": [
    {
     "name": "stdout",
     "output_type": "stream",
     "text": [
      "[[1. 0. 0.]\n",
      " [0. 1. 0.]\n",
      " [0. 0. 2.]]\n",
      "2 2\n"
     ]
    }
   ],
   "source": [
    "env.movement_coordinates(2 , 2 , 3 , True)\n",
    "print(env.mat)\n",
    "print(env.red_x , env.red_y)"
   ]
  },
  {
   "cell_type": "code",
   "execution_count": 8,
   "metadata": {},
   "outputs": [],
   "source": [
    "#solving using the A* heuristic\n",
    "def heuristics():\n",
    "    env.duplicate(start)\n",
    "    current_string = np.array_str(env.mat)   #this is the matrix to convert the matrix in the string form to keep \n",
    "                                             #track of the explored states\n",
    "    \n",
    "    d = dict()                #this is to store the node\n",
    "                              #first element is the matrix which is the parent of the string\n",
    "                              #second is the total cost to go till now\n",
    "                              #third is the heuristic\n",
    "                    \n",
    "    q = []                    #this is the list and in some sense we are going to treat it as the priority queue\n",
    "    heapq.heapify (q)\n",
    "    \n",
    "    explored = []         #this is to maintain the set of the explored states\n",
    "                             #this is to initialised to empty\n",
    "        \n",
    "    frontier = []            #frontier is the list that is used to keep track of the elements that are there in the queue\n",
    "    \n",
    "    \n",
    "    d[current_string] = (\"-1\" , 0 , env.h_manhattan())         #this is to put the current string in the state and initialise all it parameters\n",
    "    ans = False              #this is to see if the solution is found or not\n",
    "        \n",
    "    counter = 0              #to see how many steps have been taken to solve the problem\n",
    "    counter_prior = 0\n",
    "    heapq.heappush(q , (d[current_string][1] + d[current_string][2] , counter_prior ,np.copy(env.mat) ) )   #this is to put the value of the heuristic in the queue\n",
    "    frontier.append (current_string)\n",
    "    \n",
    "    while len(q) > 0 and ans == False:\n",
    "        \n",
    "    \n",
    "        #print(frontier)\n",
    "        #this is to print the number of steps\n",
    "        counter += 1             #to count the number of steps taken\n",
    "        #print(\"Number of steps : \" , counter)\n",
    "        \n",
    "        \n",
    "        #the element that is popped out from the heap have the fist element as the total estimated cost \n",
    "        #and the third element as the state from which it has beee taken\n",
    "        temp = heapq.heappop (q)      #popping the element out of the queue\n",
    "        \n",
    "        matrix = temp[2]                          #taking the matrix out of it\n",
    "        matrix_string = np.array_str (matrix)     #converting the matrix into the string\n",
    "        frontier.remove(matrix_string)\n",
    "        env.duplicate(matrix)                     #creating the duplicate of the environment\n",
    "        #print (matrix)\n",
    "        \n",
    "        \n",
    "        if (env.goal_satisfied() == True):  #to check if this is the goal state if yes break out of the loop\n",
    "            print(env.red_x , env.red_y)\n",
    "            ans = True\n",
    "            break\n",
    "\n",
    "        explored.append (matrix_string)              #to say that this node is explored\n",
    "        \n",
    "        dist = d[matrix_string][1] + d[matrix_string][2]      #getting the actual value out of the d\n",
    "        if (temp[0] > dist):                      #if the value in the queue is greater than the current distance then discarding it\n",
    "            continue                              #note this is for the lazy detection\n",
    "        \n",
    "        #this is to carry out each action\n",
    "        #this is to explore the current string\n",
    "        #moving just the first blank\n",
    "        \n",
    "        for x in range(env.dimension):\n",
    "            for y in range(env.dimension):\n",
    "                for action in [1 ,2 ,3 , 4]:\n",
    "                    #print(x , y ,action)\n",
    "                    new_x , new_y = env.get_new(x , y , action)\n",
    "                    if (env.movement_coordinates(x , y , action , False)):\n",
    "                        current_string = np.array_str (env.mat)\n",
    "                        \n",
    "                        #print(current_string)\n",
    "                        if (current_string not in explored and current_string not in frontier):\n",
    "                            d[current_string] = (matrix_string , d[matrix_string][1] + 1 , env.h_manhattan())\n",
    "                            counter_prior += 1\n",
    "                            heapq.heappush(q , (d[current_string][1] + d[current_string][2], counter_prior, np.copy(env.mat) ))\n",
    "                            frontier.append(current_string)\n",
    "                        \n",
    "                        elif (current_string in frontier and d[current_string][1] > d[matrix_string][1] + 1):\n",
    "                            d[current_string] = (matrix_string , \"left b0\" , d[matrix_string][2] + 1 , env.h_manhattan())\n",
    "                            counter_prior += 1\n",
    "                            heapq.heappush(q , (d[current_string][1] + d[current_string][2], counter_prior, np.copy(env.mat) ))\n",
    "                            frontier.append(current_string)\n",
    "                        env.movement_coordinates(new_x , new_y , action , True)\n",
    "        \n",
    "    if (ans == False):\n",
    "        print(\"No Solution\")\n",
    "    else:\n",
    "        \n",
    "        current_string = np.array_str(env.mat)\n",
    "        path = []\n",
    "        length = 0\n",
    "        while not d[current_string][0] == \"-1\":\n",
    "            length += 1\n",
    "            path.insert(0 , d[current_string][0])\n",
    "            current_string = d[current_string][0]\n",
    "        \n",
    "        print(\"Total length  :\" , length)\n",
    "        for x in path:\n",
    "            print(x)\n",
    "        print(env.mat)\n",
    "        \n"
   ]
  },
  {
   "cell_type": "code",
   "execution_count": 9,
   "metadata": {},
   "outputs": [
    {
     "ename": "TypeError",
     "evalue": "get_new() takes 3 positional arguments but 4 were given",
     "output_type": "error",
     "traceback": [
      "\u001b[0;31m---------------------------------------------------------------------------\u001b[0m",
      "\u001b[0;31mTypeError\u001b[0m                                 Traceback (most recent call last)",
      "\u001b[0;32m<ipython-input-9-0c3f401b8bf5>\u001b[0m in \u001b[0;36m<module>\u001b[0;34m()\u001b[0m\n\u001b[0;32m----> 1\u001b[0;31m \u001b[0mheuristics\u001b[0m\u001b[0;34m(\u001b[0m\u001b[0;34m)\u001b[0m\u001b[0;34m\u001b[0m\u001b[0m\n\u001b[0m",
      "\u001b[0;32m<ipython-input-8-440eca4fadd8>\u001b[0m in \u001b[0;36mheuristics\u001b[0;34m()\u001b[0m\n\u001b[1;32m     66\u001b[0m                 \u001b[0;32mfor\u001b[0m \u001b[0maction\u001b[0m \u001b[0;32min\u001b[0m \u001b[0;34m[\u001b[0m\u001b[0;36m1\u001b[0m \u001b[0;34m,\u001b[0m\u001b[0;36m2\u001b[0m \u001b[0;34m,\u001b[0m\u001b[0;36m3\u001b[0m \u001b[0;34m,\u001b[0m \u001b[0;36m4\u001b[0m\u001b[0;34m]\u001b[0m\u001b[0;34m:\u001b[0m\u001b[0;34m\u001b[0m\u001b[0m\n\u001b[1;32m     67\u001b[0m                     \u001b[0;31m#print(x , y ,action)\u001b[0m\u001b[0;34m\u001b[0m\u001b[0;34m\u001b[0m\u001b[0m\n\u001b[0;32m---> 68\u001b[0;31m                     \u001b[0mnew_x\u001b[0m \u001b[0;34m,\u001b[0m \u001b[0mnew_y\u001b[0m \u001b[0;34m=\u001b[0m \u001b[0menv\u001b[0m\u001b[0;34m.\u001b[0m\u001b[0mget_new\u001b[0m\u001b[0;34m(\u001b[0m\u001b[0mx\u001b[0m \u001b[0;34m,\u001b[0m \u001b[0my\u001b[0m \u001b[0;34m,\u001b[0m \u001b[0maction\u001b[0m\u001b[0;34m)\u001b[0m\u001b[0;34m\u001b[0m\u001b[0m\n\u001b[0m\u001b[1;32m     69\u001b[0m                     \u001b[0;32mif\u001b[0m \u001b[0;34m(\u001b[0m\u001b[0menv\u001b[0m\u001b[0;34m.\u001b[0m\u001b[0mmovement_coordinates\u001b[0m\u001b[0;34m(\u001b[0m\u001b[0mx\u001b[0m \u001b[0;34m,\u001b[0m \u001b[0my\u001b[0m \u001b[0;34m,\u001b[0m \u001b[0maction\u001b[0m \u001b[0;34m,\u001b[0m \u001b[0;32mFalse\u001b[0m\u001b[0;34m)\u001b[0m\u001b[0;34m)\u001b[0m\u001b[0;34m:\u001b[0m\u001b[0;34m\u001b[0m\u001b[0m\n\u001b[1;32m     70\u001b[0m                         \u001b[0mcurrent_string\u001b[0m \u001b[0;34m=\u001b[0m \u001b[0mnp\u001b[0m\u001b[0;34m.\u001b[0m\u001b[0marray_str\u001b[0m \u001b[0;34m(\u001b[0m\u001b[0menv\u001b[0m\u001b[0;34m.\u001b[0m\u001b[0mmat\u001b[0m\u001b[0;34m)\u001b[0m\u001b[0;34m\u001b[0m\u001b[0m\n",
      "\u001b[0;31mTypeError\u001b[0m: get_new() takes 3 positional arguments but 4 were given"
     ]
    }
   ],
   "source": [
    "heuristics()"
   ]
  },
  {
   "cell_type": "code",
   "execution_count": null,
   "metadata": {},
   "outputs": [],
   "source": []
  }
 ],
 "metadata": {
  "kernelspec": {
   "display_name": "Python 3",
   "language": "python",
   "name": "python3"
  },
  "language_info": {
   "codemirror_mode": {
    "name": "ipython",
    "version": 3
   },
   "file_extension": ".py",
   "mimetype": "text/x-python",
   "name": "python",
   "nbconvert_exporter": "python",
   "pygments_lexer": "ipython3",
   "version": "3.6.5"
  }
 },
 "nbformat": 4,
 "nbformat_minor": 2
}
