{
 "cells": [
  {
   "cell_type": "code",
   "execution_count": 1,
   "metadata": {},
   "outputs": [],
   "source": [
    "#importing all the libraries\n",
    "import numpy as np\n",
    "import pickle\n",
    "import math\n",
    "import pandas as pd"
   ]
  },
  {
   "cell_type": "code",
   "execution_count": 2,
   "metadata": {},
   "outputs": [
    {
     "name": "stdout",
     "output_type": "stream",
     "text": [
      "[[0 3 6 0 0 8 0 0 0 0]\n",
      " [8 0 0 0 0 0 0 0 9 2]\n",
      " [0 7 0 0 0 0 8 0 0 0]\n",
      " [0 0 0 0 0 0 0 4 7 0]\n",
      " [0 9 0 0 0 0 3 0 0 0]]\n",
      "Size of road network is :  (10, 10)\n"
     ]
    }
   ],
   "source": [
    "#this is to read the file using np.load and then converting it into numpy array\n",
    "road_network = np.array(np.load(\"roads/road\"))\n",
    "print(road_network[:5])\n",
    "print(\"Size of road network is : \" , road_network.shape)"
   ]
  },
  {
   "cell_type": "code",
   "execution_count": 3,
   "metadata": {},
   "outputs": [
    {
     "name": "stdout",
     "output_type": "stream",
     "text": [
      "[[1 0 5 3 7]\n",
      " [7 8 7 8 7]\n",
      " [3 7 0 1 9]\n",
      " [6 0 5 2 6]\n",
      " [8 7 0 1 9]]\n",
      "Size of vechile is :  (100, 5)\n"
     ]
    }
   ],
   "source": [
    "#reading the path of each vehicle\n",
    "vehicle = np.array(np.load(\"roads/vehicle\"))\n",
    "print(vehicle[:5])\n",
    "print(\"Size of vechile is : \" , vehicle.shape )"
   ]
  },
  {
   "cell_type": "code",
   "execution_count": 4,
   "metadata": {},
   "outputs": [
    {
     "name": "stdout",
     "output_type": "stream",
     "text": [
      "[[1.04966149]\n",
      " [2.30189821]\n",
      " [2.64456047]\n",
      " [2.72793688]\n",
      " [3.57308425]]\n",
      "Size of time is :  (100, 1)\n"
     ]
    }
   ],
   "source": [
    "#this is to read the time at which they are leaving\n",
    "time = np.array(np.load(\"roads/time\", encoding='bytes'))\n",
    "print(time[:5])\n",
    "print(\"Size of time is : \" , time.shape)"
   ]
  },
  {
   "cell_type": "code",
   "execution_count": 5,
   "metadata": {},
   "outputs": [],
   "source": [
    "#creating the environment \n",
    "#road contains all the network\n",
    "#status of road stores the numbers of vehciles on the road currently\n",
    "class environment :\n",
    "    def __init__ (self , road_network):\n",
    "        self.road = road_network\n",
    "        self.status_of_road = np.zeros(road_network.shape)\n",
    "        \n",
    "    def determine_speed(self , x):\n",
    "        return math.exp(0.5 * x) / (1 + math.exp(0.5*x)) + 15 / (1 + math.exp(0.5 * x))\n",
    "    "
   ]
  },
  {
   "cell_type": "code",
   "execution_count": 6,
   "metadata": {},
   "outputs": [],
   "source": [
    "#detailed status stores when they cross each junction\n",
    "#path stores the path each vehcile is going to follow\n",
    "#time status stores the time by which each vehcile had travelled\n",
    "#done stores how much each vehicle has travelled\n",
    "#which vehicle returns the vehicle to be moved\n",
    "class agents :\n",
    "    \n",
    "    #these are the variables\n",
    "    detailed_status = np.array( (0 , 0) )         #this is to store the timing of each of the vehicle when it crossed the given node\n",
    "    path = np.array((0 , 0))\n",
    "    time_status = np.array((0 , 0))\n",
    "    done = np.array((0 , 0))\n",
    "    \n",
    "    def __init__ (self, time , vehicle):\n",
    "        self.path = vehicle                        #this is to store the path that the vehicles will follow\n",
    "        self.time_status = time                    #this is to keep track of which vehicle have completed how much time\n",
    "        \n",
    "        #we divide by 60 so as to keep the time in hours\n",
    "        self.detailed_status = np.hstack ([time/60 , math.inf * np.ones((vehicle.shape[0] , vehicle.shape[1] - 1)) ]) #\n",
    "        \n",
    "        #To keep track of which point the vehicle is in the path\n",
    "        self.done =  np.hstack ([np.ones(time.shape , dtype=  bool) , np.zeros((vehicle.shape[0] , vehicle.shape[1] - 1), dtype= bool) ])\n",
    "        \n",
    "    def which_vehicle(self):\n",
    "        return self.time_status.argmin()                 #this returns the index of the minimum element\n",
    "        "
   ]
  },
  {
   "cell_type": "code",
   "execution_count": 7,
   "metadata": {},
   "outputs": [],
   "source": [
    "#initialising the agent and the environment\n",
    "agent = agents(time , vehicle)\n",
    "env = environment (road_network)"
   ]
  },
  {
   "cell_type": "code",
   "execution_count": 8,
   "metadata": {},
   "outputs": [],
   "source": [
    "#solving the problem\n",
    "while(not np.all(agent.done)):\n",
    "    \n",
    "    current = agent.which_vehicle()\n",
    "    index = -1\n",
    "    #print(\"Current vehicle : \" , current )\n",
    "    \n",
    "    for temp in range(agent.path.shape[1]):\n",
    "        if (agent.done[current, temp] == False):\n",
    "            index= temp;\n",
    "            break\n",
    "\n",
    "    if (index == -1):\n",
    "        env.status_of_road[agent.path[current ,3] , agent.path[current , 4]] -=1\n",
    "        agent.time_status[current , 0] = math.inf \n",
    "        continue\n",
    "    \n",
    "    agent.done[current, index] = True\n",
    "    #print(agent.done)\n",
    "   \n",
    "    x = agent.path[current , index-1]\n",
    "    y = agent.path[current , index]\n",
    "    \n",
    "    number_of_vehicle = env.status_of_road[x , y]\n",
    "    env.status_of_road[x , y] += 1\n",
    "    #print(x , y ,index , number_of_vehicle)\n",
    "    #this means that the road is free\n",
    "    if index-2 >= 0:\n",
    "        env.status_of_road[agent.path[current , index-2] ,x] -=1\n",
    "    #print(number_of_vehicle)\n",
    "    speed = env.determine_speed(number_of_vehicle)\n",
    "    time_required = env.road[x , y] / speed\n",
    "    time_required = time_required * 60\n",
    "    \n",
    "    #print(agent.time_status[current , 0] , time_required)\n",
    "    agent.time_status[current , 0] += time_required\n",
    "    \n",
    "    #this is for the status\n",
    "    agent.detailed_status[current,  index] = agent.time_status[current , 0]/60\n",
    "    \n",
    "    "
   ]
  },
  {
   "cell_type": "code",
   "execution_count": 9,
   "metadata": {
    "scrolled": true
   },
   "outputs": [
    {
     "name": "stdout",
     "output_type": "stream",
     "text": [
      "[[0.0174943581 1.0174943581 7.4082561823 9.2969571737 9.7969571737]\n",
      " [0.0383649701 0.6633649701 0.7883649701 1.8376432987 1.9626432987]\n",
      " [0.0440760078 0.5440760078 1.4986434707 2.3427729069 2.9055258644]\n",
      " [0.0454656146 0.9204656146 6.5927310628 6.8427310628 13.2334928870]\n",
      " [0.0595514041 0.1845514041 0.9345514041 1.5641184012 1.8823075555]\n",
      " [0.0715168608 0.4465168608 1.1965168608 1.8260838580 2.1442730123]\n",
      " [0.0781965793 0.2372911565 1.2865694850 1.4964251508 4.4062009748]\n",
      " [0.0928578862 0.3428578862 1.1383307720 4.5105812392 8.8752449753]\n",
      " [0.1096940803 0.9846940803 1.4619778117 7.8432764409 7.9682764409]\n",
      " [0.1098482595 0.3598482595 2.2485492509 2.3735492509 9.5631563031]\n",
      " [0.1181127709 0.7431127709 1.1181127709 4.4903632381 4.7403632381]\n",
      " [0.1238402757 1.2488402757 3.1375412672 4.6065309272 4.9815309272]\n",
      " [0.1255523001 1.2505523001 3.2201876512 3.3792822284 5.6274492065]\n",
      " [0.1303596705 1.2440217106 1.8735887077 2.4363416652 5.9815075703]\n",
      " [0.1308672932 0.5058672932 0.7558672932 2.6293397750 3.4248126608]\n",
      " [0.1459051355 0.4640942898 2.7151061196 3.9742401139 5.9438754650]\n",
      " [0.1530002546 1.5848514490 4.9571019162 6.0707639563 6.3207639563]\n",
      " [0.1570651011 0.9525379869 1.2025379869 5.0822390856 6.0368065485]\n",
      " [0.1611848638 1.2861848638 1.4452794410 6.8540560752 7.1040560752]\n",
      " [0.1683063150 1.1683063150 2.6001575094 3.1001575094 4.7884163818]\n",
      " [0.1708427257 1.2845047658 7.6752665900 8.3002665900 8.6752665900]\n",
      " [0.1849288851 1.1849288851 1.6046402165 7.9954020407 15.8307304568]\n",
      " [0.2647331945 1.5374898118 8.8521104909 13.2167742270 13.7167742270]\n",
      " [0.2769948945 2.1656958860 2.9611687717 3.4384525032 3.8581638346]\n",
      " [0.2980160908 0.6730160908 1.6275835538 3.0965732138 10.4111938930]\n",
      " [0.3166294005 0.9416294005 1.8961968634 9.2108175426 14.6195941768]\n",
      " [0.3421411610 1.7739923554 2.0921815097 6.8999829623 7.6499829623]\n",
      " [0.3521402075 1.6248968247 5.9895605608 6.4895605608 7.1145605608]\n",
      " [0.3543613330 1.4793613330 7.1516267812 14.8839587771 15.1339587771]\n",
      " [0.3624616263 2.0413069520 2.6708739492 11.3697474446 11.4947474446]\n",
      " [0.3701338385 0.8474175700 5.6552190226 5.9052190226 8.5280804971]\n",
      " [0.3759858934 2.0548312192 2.8503041049 4.5385629773 10.9293248015]\n",
      " [0.3841713373 0.7023604916 3.6999164625 6.6096922865 8.5793276377]\n",
      " [0.3914549088 1.4407332374 5.8053969735 6.4303969735 13.9991167292]\n",
      " [0.4492856872 1.1992856872 2.3129477273 10.8277574524 10.9527574524]\n",
      " [0.4587064415 1.2541793272 2.5133133215 5.1361747960 12.8685067920]\n",
      " [0.4609522957 1.8678346893 9.0574417415 13.4221054776 14.0584837862]\n",
      " [0.4950862373 2.7460980671 7.1107618032 7.7471401118 8.7017075747]\n",
      " [0.5302836392 1.9621348336 2.7115238263 6.2566897314 14.0568854858]\n",
      " [0.5339088389 0.9089088389 2.3778984989 9.9466182546 10.1966182546]\n",
      " [0.5496189612 0.7996189612 3.0506307911 3.9256307911 6.8354066151]\n",
      " [0.5563784509 1.8291350681 2.9427971082 5.8525729322 12.2433347564]\n",
      " [0.5858151699 3.5833711408 3.8333711408 9.5056365889 10.3806365889]\n",
      " [0.5950487914 4.4747498901 7.8470003574 8.3470003574 14.7282989866]\n",
      " [0.6588612837 2.1278509437 2.3778509437 7.1856523963 7.4356523963]\n",
      " [0.6772530506 1.1545367821 2.4136707764 8.0859362246 8.3359362246]\n",
      " [0.6916947563 2.3705400821 2.6887292364 3.1084405678 3.4834405678]\n",
      " [0.7583092179 3.1831224046 11.4120706687 15.7767344048 16.2767344048]\n",
      " [0.7606827225 3.2930710310 3.4521656082 12.1510391036 12.4010391036]\n",
      " [0.7684064694 1.2456902009 1.8084431583 9.6086389127 9.9268280670]\n",
      " [0.7937653965 1.1687653965 4.1663213674 4.6436050988 4.8936050988]\n",
      " [0.7964114233 2.7660467745 3.2433305059 3.6630418374 6.6679177452]\n",
      " [0.8084680627 1.2857517942 5.6504155302 6.0254155302 14.7242890257]\n",
      " [0.8226911932 1.4522581904 1.9295419218 2.4922948793 2.9695786107]\n",
      " [0.8606196477 1.4901866449 2.1197536420 10.6345633672 10.8845633672]\n",
      " [0.8691544890 3.8667104599 4.6167104599 4.9917104599 5.7417104599]\n",
      " [0.8809675139 1.7559675139 2.1756788453 2.6529625768 10.3852945727]\n",
      " [0.8961617391 1.1461617391 1.3961617391 3.8209749258 6.0691419040]\n",
      " [0.9664961509 1.4664961509 7.8477947802 9.7364957716 10.3728740802]\n",
      " [0.9976127403 1.4748964717 1.8946078032 10.1235560672 10.2485560672]\n",
      " [1.0269030306 1.1519030306 2.4110370249 3.0406040221 9.9741113593]\n",
      " [1.0387502420 4.9184513407 5.1684513407 13.0037797568 19.3945415809]\n",
      " [1.0626367206 1.9067661568 9.4754859124 9.7254859124 10.6004859124]\n",
      " [1.0636498074 1.7000281160 3.1069105097 3.5841942411 12.2830677366]\n",
      " [1.0700049375 3.6023932460 6.9746437133 7.4746437133 8.0996437133]\n",
      " [1.1018243391 1.2609189162 4.6331693834 4.8831693834 7.5060308579]\n",
      " [1.1277390912 2.1770174198 2.4952065741 4.4648419252 13.3514951803]\n",
      " [1.1317258825 1.4499150368 6.8586916710 7.1086916710 13.4994534951]\n",
      " [1.1422208374 3.0309218288 3.4506331602 4.0802001574 4.4552001574]\n",
      " [1.1448365090 1.3546921747 3.6028591528 11.1715789085 11.4215789085]\n",
      " [1.1491094589 1.4672986132 6.2751000659 7.5342340602 9.0032237202]\n",
      " [1.1545635746 3.1241989257 3.2491989257 11.7640086508 12.0140086508]\n",
      " [1.2025284043 3.7349167129 11.0495373921 11.4245373921 14.7967878593]\n",
      " [1.2158366018 2.0599660380 2.3781551923 8.7689170165 9.5189170165]\n",
      " [1.2302318900 3.1037043717 10.9039001261 14.2761505933 15.1511505933]\n",
      " [1.2338429676 1.7111266991 9.5113224535 9.7613224535 10.8749844935]\n",
      " [1.2410645870 2.9293234594 5.1774904375 10.8497558857 11.0997558857]\n",
      " [1.2823234686 3.1710244600 5.1406598111 5.5156598111 13.3509882272]\n",
      " [1.3124167462 5.1921178450 12.7608376006 13.3858376006 14.1358376006]\n",
      " [1.3157271221 5.6803908582 5.8053908582 8.0535578363 15.9528051742]\n",
      " [1.3359085635 6.1437100162 6.3937100162 14.2290384323 14.9790384323]\n",
      " [1.3386286791 3.0268875515 6.4216260129 6.6716260129 7.0466260129]\n",
      " [1.3733462583 2.2174756945 3.9057345669 9.5780000151 9.8280000151]\n",
      " [1.4031421467 4.4080180546 6.6561850327 7.0311850327 7.2811850327]\n",
      " [1.4076574790 1.6576574790 3.6272928301 12.4420372982 12.8170372982]\n",
      " [1.4332175792 2.0582175792 2.9023470154 9.2931088396 10.2476763025]\n",
      " [1.4343208654 3.9667091739 4.4667091739 5.0917091739 5.2167091739]\n",
      " [1.4360588775 1.6860588775 4.6909347854 6.9391017635 14.5078215192]\n",
      " [1.4530322430 2.2971616792 3.0471616792 3.4221616792 4.5358237193]\n",
      " [1.4742227896 2.5235011182 2.8985011182 3.3182124496 3.7954961811]\n",
      " [1.4744020433 2.5984855324 3.5530529953 5.4417539867 5.6917539867]\n",
      " [1.5223819482 8.4558892854 11.8281397526 12.7031397526 12.9531397526]\n",
      " [1.5418019606 7.2140674088 15.0493958249 15.6743958249 16.4243958249]\n",
      " [1.5508702671 1.8690594214 3.8386947725 11.4074145282 17.7981763524]\n",
      " [1.5603248752 4.1831863497 4.4331863497 7.0560478242 7.3742369785]\n",
      " [1.5648052521 1.6898052521 8.0711038813 10.6034921899 11.4784921899]\n",
      " [1.5782884785 4.1106767870 11.8430087830 12.2180087830 15.2155647538]\n",
      " [1.5798773505 1.9995886819 5.0044645898 7.2526315680 15.1518789059]\n",
      " [1.5860424097 4.4958182337 4.9731019652 5.2231019652 6.6299843588]\n",
      " [1.6426955385 8.8323025907 8.9573025907 16.1469096429 16.3969096429]]\n"
     ]
    }
   ],
   "source": [
    "np.set_printoptions(formatter={'float': lambda x: \"{0:0.10f}\".format(x)})\n",
    "print(agent.detailed_status)"
   ]
  },
  {
   "cell_type": "code",
   "execution_count": 10,
   "metadata": {},
   "outputs": [],
   "source": [
    "#this is to print the csv file using the pandas\n",
    "df = pd.DataFrame (agent.detailed_status)\n",
    "df.columns = ['site1' , 'site2' , 'site3' , 'site4' , 'site5']\n",
    "df.to_csv('ans.csv')"
   ]
  },
  {
   "cell_type": "code",
   "execution_count": 11,
   "metadata": {},
   "outputs": [],
   "source": [
    "#print(agent.time_status)"
   ]
  },
  {
   "cell_type": "code",
   "execution_count": 12,
   "metadata": {},
   "outputs": [],
   "source": [
    "#np.set_printoptions (precision = 0)            #this line is to print the result properly\n",
    "#print(env.status_of_road)"
   ]
  },
  {
   "cell_type": "code",
   "execution_count": null,
   "metadata": {},
   "outputs": [],
   "source": []
  },
  {
   "cell_type": "code",
   "execution_count": null,
   "metadata": {},
   "outputs": [],
   "source": []
  }
 ],
 "metadata": {
  "kernelspec": {
   "display_name": "Python 3",
   "language": "python",
   "name": "python3"
  },
  "language_info": {
   "codemirror_mode": {
    "name": "ipython",
    "version": 3
   },
   "file_extension": ".py",
   "mimetype": "text/x-python",
   "name": "python",
   "nbconvert_exporter": "python",
   "pygments_lexer": "ipython3",
   "version": "3.6.5"
  }
 },
 "nbformat": 4,
 "nbformat_minor": 2
}
