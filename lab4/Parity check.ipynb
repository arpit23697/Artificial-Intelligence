{
 "cells": [
  {
   "cell_type": "code",
   "execution_count": 1,
   "metadata": {},
   "outputs": [],
   "source": [
    "#this is to import the function\n",
    "import numpy as np\n",
    "import matplotlib.pyplot as plt\n",
    "import pandas as pd"
   ]
  },
  {
   "cell_type": "code",
   "execution_count": 5,
   "metadata": {},
   "outputs": [],
   "source": [
    "\n",
    "#class for the environment of the n^2 -1 puzzle\n",
    "#this is also going to have the function for the parity check\n",
    "class puzzle : \n",
    "    def __init__(self):\n",
    "        n = int(input(\"Enter the dimension of the matrix : \"))\n",
    "        self.dimension = n\n",
    "        self.mat = np.zeros((self.dimension , self.dimension))\n",
    "        self.x = -1\n",
    "        self.y = -1\n",
    "    \n",
    "    #this is to take the matrix as the input \n",
    "    #in order to take the blank we take * as the input\n",
    "    def enter_matrix(self):\n",
    "        print(\"Enter the elements of the matrix : \")\n",
    "        for i in range(self.dimension):\n",
    "            temp  = input().strip().split()\n",
    "            for j , x in zip(range(self.dimension) , temp):\n",
    "                if (x == '*'):\n",
    "                    self.mat[i , j] = -1\n",
    "                    self.x = i\n",
    "                    self.y = j\n",
    "                else:\n",
    "                    self.mat[i , j] = int(x)\n",
    "        \n",
    "    #this is the function to define the movements of the blank space\n",
    "    def left (self):\n",
    "        if (self.y == 0):\n",
    "            return False\n",
    "        else:\n",
    "            self.mat[self.x , self.y] = self.mat[self.x, self.y - 1]\n",
    "            self.mat[self.x, self.y - 1] = -1\n",
    "            self.y = self.y - 1\n",
    "            return True\n",
    "        \n",
    "    def right(self):\n",
    "        if (self.y == self.dimension - 1):\n",
    "            return False\n",
    "        else:\n",
    "            self.mat[self.x , self.y] = self.mat[self.x , self.y + 1]\n",
    "            self.mat[self.x , self.y + 1] = -1\n",
    "            self.y = self.y + 1\n",
    "            return True\n",
    "    \n",
    "    def up(self):\n",
    "        if (self.x == 0):\n",
    "            return False\n",
    "        else:\n",
    "            self.mat[self.x , self.y] = self.mat[self.x - 1, self.y]\n",
    "            self.mat[self.x - 1  , self.y ] = -1\n",
    "            self.x = self.x - 1\n",
    "            return True\n",
    "    \n",
    "    def down(self):\n",
    "        if (self.x == self.dimension - 1):\n",
    "            return False\n",
    "        else:\n",
    "            self.mat[self.x , self.y] = self.mat[self.x + 1 , self.y]\n",
    "            self.mat[self.x + 1, self.y ] = -1\n",
    "            self.x = self.x  + 1\n",
    "            return True\n",
    "    #this is the function to check the parity of the function\n",
    "    def parity(self):\n",
    "        d = (self.dimension - self.x - 1) + (self.dimension - self.y - 1)\n",
    "        s = d\n",
    "        for p1 in range(self.dimension * self.dimension - 1):\n",
    "            for p2 in range(p1+1 , self.dimension*self.dimension ):\n",
    "                #extracting the position from p1 and p2\n",
    "                x1 = p1 // self.dimension\n",
    "                y1 = p1 % self.dimension\n",
    "                x2 = p2 // self.dimension\n",
    "                y2 = p2 % self.dimension\n",
    "                \n",
    "                #this is to check that the position p1 and p2 should not be blank\n",
    "                if (x1 == self.x and y1 == self.y):\n",
    "                    continue\n",
    "                if (x2 == self.x and y2 == self.y):\n",
    "                    continue\n",
    "                \n",
    "                if (self.mat[x1 , y1 ] > self.mat[x2, y2]):\n",
    "                    s += 1\n",
    "        #print(s)\n",
    "        #returning the parity value\n",
    "        if (s % 2 == 0):\n",
    "            return 0;\n",
    "        else:\n",
    "            return 1;\n",
    "                    "
   ]
  },
  {
   "cell_type": "code",
   "execution_count": 6,
   "metadata": {},
   "outputs": [
    {
     "name": "stdout",
     "output_type": "stream",
     "text": [
      "Enter the dimension of the matrix : 3\n",
      "Enter the elements of the matrix : \n",
      "1 2 3\n",
      "4 5 6\n",
      "7 8 *\n",
      "The matrix is : \n",
      "[[ 1.  2.  3.]\n",
      " [ 4.  5.  6.]\n",
      " [ 7.  8. -1.]]\n"
     ]
    }
   ],
   "source": [
    "#initialising the value and then taking the matrix as the input\n",
    "env = puzzle()\n",
    "env.enter_matrix()\n",
    "print(\"The matrix is : \")\n",
    "print(env.mat)"
   ]
  },
  {
   "cell_type": "code",
   "execution_count": 8,
   "metadata": {},
   "outputs": [
    {
     "data": {
      "text/plain": [
       "0"
      ]
     },
     "execution_count": 8,
     "metadata": {},
     "output_type": "execute_result"
    }
   ],
   "source": [
    "#this is the parity check\n",
    "env.parity()"
   ]
  },
  {
   "cell_type": "code",
   "execution_count": null,
   "metadata": {},
   "outputs": [],
   "source": []
  }
 ],
 "metadata": {
  "kernelspec": {
   "display_name": "Python 3",
   "language": "python",
   "name": "python3"
  },
  "language_info": {
   "codemirror_mode": {
    "name": "ipython",
    "version": 3
   },
   "file_extension": ".py",
   "mimetype": "text/x-python",
   "name": "python",
   "nbconvert_exporter": "python",
   "pygments_lexer": "ipython3",
   "version": "3.6.5"
  }
 },
 "nbformat": 4,
 "nbformat_minor": 2
}
