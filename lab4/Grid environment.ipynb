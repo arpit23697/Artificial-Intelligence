{
 "cells": [
  {
   "cell_type": "code",
   "execution_count": 2,
   "metadata": {},
   "outputs": [],
   "source": [
    "#this is to include the library\n",
    "import numpy as np\n",
    "import pandas as pd\n",
    "import matplotlib.pyplot as plt"
   ]
  },
  {
   "cell_type": "code",
   "execution_count": 16,
   "metadata": {},
   "outputs": [],
   "source": [
    "class grid :\n",
    "    def __init__ (self):\n",
    "        n = int (input(\"Enter the dimension of the grid\"))\n",
    "        self.dimension = n\n",
    "        self.mat = np.zeros((self.dimension , self.dimension))\n",
    "        \n",
    "        #taking the matrix as the input\n",
    "        print(\"Enter the matrix : \" )\n",
    "        for i in range(self.dimension):\n",
    "            temp = input().strip().split()\n",
    "            for j , x in zip(range(self.dimension) , temp):\n",
    "                self.mat[i , j] = x;\n",
    "        \n",
    "        #Enter the start configuration\n",
    "        temp = input(\"Enter the start configuration : \" ).strip().split()\n",
    "        self.x = int(temp[0])\n",
    "        self.y = int(temp[1])\n",
    "        \n",
    "        #Enter the final configuration\n",
    "        temp = input(\"Enter the final configuration : \" ).strip().split()\n",
    "        self.final_x = int(temp[0])\n",
    "        self.final_y = int(temp[1])\n",
    "        \n",
    "    \n",
    "    def left (self):\n",
    "        if (self.y == 0 or self.mat[self.x , self.y - 1] == 1):\n",
    "            return False\n",
    "        else:\n",
    "            self.y = self.y - 1\n",
    "            return True\n",
    "    \n",
    "    def right (self) :\n",
    "        if (self.y == self.dimension - 1  or self.mat[self.x , self.y + 1] == 1):\n",
    "            return False\n",
    "        else:\n",
    "            self.y = self.y + 1\n",
    "            return True\n",
    "        \n",
    "    def up (self):\n",
    "        if (self.x == 0 or self.mat[self.x - 1 , self.y] == 1):\n",
    "            return False\n",
    "        else:\n",
    "            self.x = self.x - 1\n",
    "            return True\n",
    "    \n",
    "    def down (self):\n",
    "        if (self.x == self.dimension - 1 or self.mat[self.x + 1 , self.y] == 1):\n",
    "            return False\n",
    "        else:\n",
    "            self.x = self.x + 1\n",
    "            return True"
   ]
  },
  {
   "cell_type": "code",
   "execution_count": 17,
   "metadata": {},
   "outputs": [
    {
     "name": "stdout",
     "output_type": "stream",
     "text": [
      "Enter the dimension of the grid4\n",
      "Enter the matrix : \n",
      "0 1 0 0\n",
      "1 0 0 0\n",
      "0 0 1 1\n",
      "0 0 1 1\n",
      "Enter the start configuration : 2 1\n",
      "Enter the final configuration : 1 3\n"
     ]
    }
   ],
   "source": [
    "env = grid()"
   ]
  },
  {
   "cell_type": "code",
   "execution_count": 18,
   "metadata": {},
   "outputs": [
    {
     "name": "stdout",
     "output_type": "stream",
     "text": [
      "2 0\n"
     ]
    }
   ],
   "source": [
    "env.left()\n",
    "print(env.x , env.y)"
   ]
  },
  {
   "cell_type": "code",
   "execution_count": 19,
   "metadata": {},
   "outputs": [
    {
     "name": "stdout",
     "output_type": "stream",
     "text": [
      "2 0\n"
     ]
    }
   ],
   "source": [
    "env.up()\n",
    "print(env.x , env.y)"
   ]
  },
  {
   "cell_type": "code",
   "execution_count": 20,
   "metadata": {},
   "outputs": [
    {
     "name": "stdout",
     "output_type": "stream",
     "text": [
      "2 1\n"
     ]
    }
   ],
   "source": [
    "env.right()\n",
    "print(env.x , env.y)"
   ]
  },
  {
   "cell_type": "code",
   "execution_count": 21,
   "metadata": {},
   "outputs": [
    {
     "name": "stdout",
     "output_type": "stream",
     "text": [
      "3 1\n"
     ]
    }
   ],
   "source": [
    "env.down()\n",
    "print(env.x , env.y)"
   ]
  },
  {
   "cell_type": "code",
   "execution_count": 22,
   "metadata": {},
   "outputs": [
    {
     "name": "stdout",
     "output_type": "stream",
     "text": [
      "3 1\n"
     ]
    }
   ],
   "source": [
    "env.right()\n",
    "print(env.x , env.y)"
   ]
  },
  {
   "cell_type": "code",
   "execution_count": null,
   "metadata": {},
   "outputs": [],
   "source": []
  }
 ],
 "metadata": {
  "kernelspec": {
   "display_name": "Python 3",
   "language": "python",
   "name": "python3"
  },
  "language_info": {
   "codemirror_mode": {
    "name": "ipython",
    "version": 3
   },
   "file_extension": ".py",
   "mimetype": "text/x-python",
   "name": "python",
   "nbconvert_exporter": "python",
   "pygments_lexer": "ipython3",
   "version": "3.6.5"
  }
 },
 "nbformat": 4,
 "nbformat_minor": 2
}
