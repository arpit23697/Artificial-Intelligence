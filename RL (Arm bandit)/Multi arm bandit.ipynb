{
 "cells": [
  {
   "cell_type": "code",
   "execution_count": 1,
   "metadata": {},
   "outputs": [],
   "source": [
    "import numpy as np\n",
    "import math\n",
    "import random\n",
    "import matplotlib.pyplot as plt"
   ]
  },
  {
   "cell_type": "code",
   "execution_count": 2,
   "metadata": {},
   "outputs": [],
   "source": [
    "#this is the description of the bandits\n",
    "#this will give the success probability associated with each of the arm\n",
    "action = 5                                  #this is the number of actions that are possible\n",
    "bandit = [0.5, 0.9 , 0.7 , 0.4 , 0.90]       #success probability associated with each bandit\n",
    "\n",
    "reward_success = [1 , 1, 1 ,1 ,1]\n",
    "reward_fail = [0 , 0 , 0 , 0 , 0]\n",
    "\n",
    "#the problem is to choose the best arm\n",
    "#according to the current probability distribution of the reward"
   ]
  },
  {
   "cell_type": "code",
   "execution_count": 3,
   "metadata": {},
   "outputs": [],
   "source": [
    "exploration_epsilon = 0.2\n",
    "number_of_episodes = 20000                         #number of episodes to run\n",
    "selected = [0 for _ in range(action)]              #this will tell the number of times the arm is selected"
   ]
  },
  {
   "cell_type": "code",
   "execution_count": 4,
   "metadata": {},
   "outputs": [],
   "source": [
    "Q = [0 for _ in range(action)]              #this will store the q value for each action\n",
    "                                            #this will give the expected re"
   ]
  },
  {
   "cell_type": "code",
   "execution_count": 5,
   "metadata": {},
   "outputs": [],
   "source": [
    "def bandit_solution (total):\n",
    "    r = random.random()            #this is to decide either to explore or to exploit\n",
    "    #this is to explore. i.e. randomly choose any action and then accumulate the reward\n",
    "    if (r < exploration_epsilon):\n",
    "        a = random.randint(0 , 4)\n",
    "        p_success = random.random()\n",
    "        if (p_success < bandit[a]):               #it is successful, get the positive reward\n",
    "            selected[a] += 1               #increment the selected\n",
    "            k = selected[a]\n",
    "            Q[a] = Q[a] + (1/(k+1)) * (reward_success[a] - Q[a])      #update the value of q\n",
    "            reward = reward_success[a]\n",
    "        else:\n",
    "            selected[a] += 1\n",
    "            k = selected[a]\n",
    "            #total += reward_fail[a]\n",
    "            Q[a] = Q[a] + (1/(k+1)) * (reward_fail[a] - Q[a])\n",
    "            reward = reward_fail[a]\n",
    "            \n",
    "    else:\n",
    "        a = np.argmax (Q)\n",
    "        p_success = random.random()\n",
    "        if (p_success < bandit[a]):               #it is successful, get the positive reward\n",
    "            selected[a] += 1               #increment the selected\n",
    "            k = selected[a]\n",
    "            Q[a] = Q[a] + (1/(k+1)) * (reward_success[a] - Q[a])      #update the value of q\n",
    "            reward = reward_success[a]\n",
    "        else:\n",
    "            selected[a] += 1\n",
    "            k = selected[a]\n",
    "            Q[a] = Q[a] + (1/(k+1)) * (reward_fail[a] - Q[a])\n",
    "            reward = reward_fail[a]\n",
    "        \n",
    "        \n",
    "    probability = [0 for _ in range(action)]\n",
    "    for i in range(action):\n",
    "        probability[i] = exploration_epsilon/action\n",
    "    a = np.argmax(Q)\n",
    "    probability[a] += 1-exploration_epsilon\n",
    "    \n",
    "    return (reward + total, probability)"
   ]
  },
  {
   "cell_type": "code",
   "execution_count": 6,
   "metadata": {},
   "outputs": [],
   "source": [
    "total = 0\n",
    "proportion = np.ones ((0 , action))\n",
    "probable = np.zeros ((0 , action))\n",
    "for itr in range(1, number_of_episodes+1):\n",
    "    \n",
    "    total , probability = bandit_solution(total)\n",
    "    proportion = np.vstack((proportion , np.array(selected)/itr ))\n",
    "    probable = np.vstack((probable , np.array(probability) ))"
   ]
  },
  {
   "cell_type": "code",
   "execution_count": 7,
   "metadata": {
    "scrolled": true
   },
   "outputs": [
    {
     "name": "stdout",
     "output_type": "stream",
     "text": [
      "[0.4863184079601989, 0.901063701196664, 0.7160048134777376, 0.367396593673966, 0.9001996007984028]\n"
     ]
    }
   ],
   "source": [
    "print (Q)"
   ]
  },
  {
   "cell_type": "code",
   "execution_count": 8,
   "metadata": {
    "scrolled": true
   },
   "outputs": [
    {
     "data": {
      "text/plain": [
       "Text(0,0.5,'Proportion')"
      ]
     },
     "execution_count": 8,
     "metadata": {},
     "output_type": "execute_result"
    },
    {
     "data": {
      "image/png": "[encoded data removed]",
      "text/plain": [
       "<Figure size 576x432 with 1 Axes>"
      ]
     },
     "metadata": {},
     "output_type": "display_data"
    }
   ],
   "source": [
    "#plot for the proportion\n",
    "bandit_name = [\"bandit 1\" , \"bandit 2\" , \"bandit 3\" , \"bandit 4\" , \"bandit 5\"]\n",
    "plt.figure (figsize=(8 , 6))\n",
    "for i , name  in zip (range(action) , bandit_name):\n",
    "    plt.plot (range(number_of_episodes) , proportion[: , i] , label = name)\n",
    "    \n",
    "plt.legend()\n",
    "plt.xlabel (\"number of episodes\")\n",
    "plt.ylabel (\"Proportion\")"
   ]
  },
  {
   "cell_type": "code",
   "execution_count": 9,
   "metadata": {},
   "outputs": [
    {
     "data": {
      "text/plain": [
       "Text(0,0.5,'Probability of selection')"
      ]
     },
     "execution_count": 9,
     "metadata": {},
     "output_type": "execute_result"
    },
    {
     "data": {
      "image/png": "[encoded data removed]",
      "text/plain": [
       "<Figure size 576x432 with 1 Axes>"
      ]
     },
     "metadata": {},
     "output_type": "display_data"
    }
   ],
   "source": [
    "#plot for the proportion\n",
    "bandit_name = [\"bandit 1\" , \"bandit 2\" , \"bandit 3\" , \"bandit 4\" , \"bandit 5\"]\n",
    "plt.figure (figsize=(8 , 6))\n",
    "for i , name  in zip (range(action) , bandit_name):\n",
    "    plt.plot (range(number_of_episodes) , probable[: , i] , label = name)\n",
    "    \n",
    "plt.legend()\n",
    "plt.xlabel (\"number of episodes\")\n",
    "plt.ylabel (\"Probability of selection\")"
   ]
  },
  {
   "cell_type": "code",
   "execution_count": null,
   "metadata": {},
   "outputs": [],
   "source": []
  }
 ],
 "metadata": {
  "kernelspec": {
   "display_name": "Python 3",
   "language": "python",
   "name": "python3"
  },
  "language_info": {
   "codemirror_mode": {
    "name": "ipython",
    "version": 3
   },
   "file_extension": ".py",
   "mimetype": "text/x-python",
   "name": "python",
   "nbconvert_exporter": "python",
   "pygments_lexer": "ipython3",
   "version": "3.6.5"
  }
 },
 "nbformat": 4,
 "nbformat_minor": 2
}
