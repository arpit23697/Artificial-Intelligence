{
 "cells": [
  {
   "cell_type": "code",
   "execution_count": 1,
   "metadata": {},
   "outputs": [],
   "source": [
    "#this is to import the libraries\n",
    "import numpy as np\n",
    "import random\n",
    "import matplotlib.pyplot as plt"
   ]
  },
  {
   "cell_type": "code",
   "execution_count": 2,
   "metadata": {},
   "outputs": [],
   "source": [
    "#creating the environment\n",
    "#note this is the 1D environment\n",
    "class environment :\n",
    "    def __init__ (self , x , D):\n",
    "        self.Dimension = D\n",
    "        self.L = x\n",
    "    \n",
    "    #this is to define wether the agent is in limits of the state space or not\n",
    "    def inbound(self , x):\n",
    "        for value in x:\n",
    "            if (value < 0 or value > self.L):\n",
    "                return False\n",
    "        return True\n",
    "    \n",
    "    #this is to define when the agent reaches the goal state\n",
    "    def reached_goal_state (self , x):\n",
    "        s = 0\n",
    "        \n",
    "        #finding the sum and checking wether sum is equal to D * L or not\n",
    "        for value in x :\n",
    "            s += value\n",
    "            \n",
    "        if (s == self.Dimension*self.L):\n",
    "            return True\n",
    "        return False"
   ]
  },
  {
   "cell_type": "code",
   "execution_count": 3,
   "metadata": {},
   "outputs": [],
   "source": [
    "class Agent :\n",
    "    def __init__ (self, x , D):\n",
    "        self.position = [x for _ in range(D)]   \n",
    "    \n",
    "    #these are the actions that the agent can take\n",
    "    def move(self, env , move_number):\n",
    "        \n",
    "        #move_number determines the move\n",
    "        #here we extract the dimension alongwhich to move and wether to increase or decrease it\n",
    "        moving_dimension = move_number // 2\n",
    "        direction = move_number % 2\n",
    "        \n",
    "        #this is to chose the direction along which to move\n",
    "        #if the direction is 0 then decrement in that direcion\n",
    "        if (direction == 0):\n",
    "            self.position[moving_dimension] -= 1\n",
    "            if (not env.inbound(self.position)):\n",
    "                self.position[moving_dimension] += 1\n",
    "                \n",
    "        #if the direction is 1 then increment in that direction\n",
    "        else:\n",
    "            self.position[moving_dimension] += 1\n",
    "            if (not env.inbound(self.position)):\n",
    "                self.position[moving_dimension] -= 1"
   ]
  },
  {
   "cell_type": "code",
   "execution_count": 4,
   "metadata": {},
   "outputs": [],
   "source": [
    "#this function takes the dimension and the L as the argument\n",
    "#and then calculates the number of moves it takes for the agent to return to the environment\n",
    "\n",
    "def solve (dimension , L):\n",
    "    #initialising the agent and the environment\n",
    "    env = environment(L , dimension)\n",
    "    agent = Agent(L//2 , dimension)\n",
    "\n",
    "    \n",
    "    #number of moves to keep track of the number of moves\n",
    "    number_of_moves = 0\n",
    "    while (not env.reached_goal_state(agent.position) == True):\n",
    "        #selecting the move and then moving accordingly\n",
    "        m = random.randint(0 , 2*env.Dimension - 1)  \n",
    "        agent.move(env, m)\n",
    "        number_of_moves +=1\n",
    "\n",
    "    return number_of_moves"
   ]
  },
  {
   "cell_type": "code",
   "execution_count": 5,
   "metadata": {},
   "outputs": [
    {
     "name": "stdout",
     "output_type": "stream",
     "text": [
      "Average  5773.05\n"
     ]
    }
   ],
   "source": [
    "#testing for different test cases\n",
    "dimension = 3\n",
    "L = 10\n",
    "moves = 0\n",
    "\n",
    "#running for 100 iterations\n",
    "for i in range(100):\n",
    "    temp = solve(dimension , L)\n",
    "    #print(\"Iteration \" , i+1 , \" \" , temp)\n",
    "    moves += temp\n",
    "    \n",
    "print(\"Average \" , moves/100)"
   ]
  },
  {
   "cell_type": "code",
   "execution_count": 6,
   "metadata": {},
   "outputs": [
    {
     "name": "stdout",
     "output_type": "stream",
     "text": [
      "Iteration number :  0\n",
      "Iteration number :  1\n",
      "Iteration number :  2\n",
      "Iteration number :  3\n",
      "Iteration number :  4\n",
      "Iteration number :  5\n",
      "Iteration number :  6\n",
      "Iteration number :  7\n",
      "Iteration number :  8\n",
      "Iteration number :  9\n",
      "Iteration number :  10\n",
      "Iteration number :  11\n"
     ]
    }
   ],
   "source": [
    "#plotting the function\n",
    "dimension = 2\n",
    "L = np.arange(0 , 12)\n",
    "ans = np.zeros(L.shape)\n",
    "\n",
    "for i in L:\n",
    "    print(\"Iteration number : \" , i)\n",
    "    for _ in range(5):\n",
    "        ans[i] += solve(dimension , i)\n",
    "    ans[i] = ans[i] / 5"
   ]
  },
  {
   "cell_type": "code",
   "execution_count": 7,
   "metadata": {},
   "outputs": [
    {
     "data": {
      "text/plain": [
       "Text(0.5,1,'Analysis')"
      ]
     },
     "execution_count": 7,
     "metadata": {},
     "output_type": "execute_result"
    },
    {
     "data": {
      "image/png": "[encoded data removed]",
      "text/plain": [
       "<Figure size 432x288 with 1 Axes>"
      ]
     },
     "metadata": {},
     "output_type": "display_data"
    }
   ],
   "source": [
    "#plotting the graph\n",
    "plt.plot (L , ans)\n",
    "plt.xlabel(\"L\")\n",
    "plt.ylabel(\"Number of moves\")\n",
    "plt.title(\"Analysis\")"
   ]
  },
  {
   "cell_type": "code",
   "execution_count": 8,
   "metadata": {},
   "outputs": [
    {
     "name": "stdout",
     "output_type": "stream",
     "text": [
      "Iteration number :  0\n",
      "Iteration number :  1\n",
      "Iteration number :  2\n",
      "Iteration number :  3\n",
      "Iteration number :  4\n"
     ]
    }
   ],
   "source": [
    "#plotting the function\n",
    "dimension = np.arange(5)\n",
    "L = 10\n",
    "ans = np.zeros(dimension.shape)\n",
    "\n",
    "for i in dimension:\n",
    "    print(\"Iteration number : \" , i)\n",
    "    for _ in range(2):\n",
    "        ans[i] += solve(i+1 , L)\n",
    "    ans[i] = ans[i] / 2"
   ]
  },
  {
   "cell_type": "code",
   "execution_count": 9,
   "metadata": {},
   "outputs": [
    {
     "data": {
      "text/plain": [
       "Text(0.5,1,'analysis')"
      ]
     },
     "execution_count": 9,
     "metadata": {},
     "output_type": "execute_result"
    },
    {
     "data": {
      "image/png": "[encoded data removed]",
      "text/plain": [
       "<Figure size 432x288 with 1 Axes>"
      ]
     },
     "metadata": {},
     "output_type": "display_data"
    }
   ],
   "source": [
    "plt.figure(figsize = (6 , 4))\n",
    "plt.plot(dimension+1 , ans , marker = 'o')\n",
    "plt.xlabel(\"Dimension\")\n",
    "plt.ylabel(\"Number of moves 'average over 2 iterations'\")\n",
    "plt.title(\"analysis\")"
   ]
  },
  {
   "cell_type": "code",
   "execution_count": null,
   "metadata": {},
   "outputs": [],
   "source": []
  }
 ],
 "metadata": {
  "kernelspec": {
   "display_name": "Python 3",
   "language": "python",
   "name": "python3"
  },
  "language_info": {
   "codemirror_mode": {
    "name": "ipython",
    "version": 3
   },
   "file_extension": ".py",
   "mimetype": "text/x-python",
   "name": "python",
   "nbconvert_exporter": "python",
   "pygments_lexer": "ipython3",
   "version": "3.6.5"
  }
 },
 "nbformat": 4,
 "nbformat_minor": 2
}
