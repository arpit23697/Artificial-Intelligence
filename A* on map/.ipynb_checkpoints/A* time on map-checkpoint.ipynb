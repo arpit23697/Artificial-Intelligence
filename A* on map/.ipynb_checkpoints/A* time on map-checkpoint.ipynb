{
 "cells": [
  {
   "cell_type": "code",
   "execution_count": 1,
   "metadata": {},
   "outputs": [],
   "source": [
    "import pandas as pd\n",
    "import numpy as np\n",
    "import math\n",
    "from collections import defaultdict\n",
    "import queue\n",
    "import heapq"
   ]
  },
  {
   "cell_type": "code",
   "execution_count": 2,
   "metadata": {},
   "outputs": [],
   "source": [
    "#this block is to declare the necessary data structures and then take the whole graph as the input\n",
    "#taking the number of nodes and then the coordinate as the input\n",
    "n = -1                        #this is for the number of nodes\n",
    "nodes = dict()                    #storing each node and there coordinate\n",
    "\n",
    "\n",
    "file = open (\"in.txt\" , \"r\")\n",
    "\n",
    "#this is for the number of nodes n\n",
    "words = file.readline()\n",
    "words = words.strip().split()\n",
    "n = int (words[0])\n",
    "\n",
    "#this is for reading the nodes and then there coordinates\n",
    "#each node and there and there coordinate are stored in the dictionary\n",
    "for _ in range(n):\n",
    "    line = file.readline()\n",
    "    words = line.strip().split()\n",
    "    temp , coordinated = int(words[0]) , (int(words[1]) , int (words[2]))\n",
    "    temp -= 1\n",
    "    nodes[temp] = coordinated\n",
    "    \n",
    "#taking the number of edges\n",
    "words = file.readline().strip().split()\n",
    "edges = int(words[0])\n",
    "\n",
    "#storing the edges in the adjacency list\n",
    "graph = [[] for _ in range(n)]\n",
    "for _ in range(edges):\n",
    "    \n",
    "    #taking each edge as the input\n",
    "    line = file.readline()\n",
    "    words = line.strip().split()\n",
    "    x , y, weight = int (words[0]) - 1 , int (words[1]) - 1 , float(words[2])\n",
    "\n",
    "    #storing each edge in the adjacency list\n",
    "    graph[x].append( (y , weight))\n",
    "    graph[y].append( (x , weight))\n",
    "    \n",
    "#taking the start state\n",
    "start = file.readline().strip().split()\n",
    "start = int(start[0]) - 1\n",
    "\n",
    "goal = file.readline().strip().split()\n",
    "goal = int(goal[0]) - 1\n",
    "    \n",
    "file.close()\n",
    "    \n",
    "    "
   ]
  },
  {
   "cell_type": "code",
   "execution_count": 3,
   "metadata": {},
   "outputs": [
    {
     "name": "stdout",
     "output_type": "stream",
     "text": [
      "number of nodes :  17\n",
      "Nodes with there coordinates : \n",
      "{0: (0, 0), 1: (0, 1), 2: (0, 2), 3: (0, 3), 4: (1, 0), 5: (1, 1), 6: (2, 0), 7: (3, 1), 8: (3, 2), 9: (3, 3), 10: (4, 1), 11: (5, 0), 12: (5, 1), 13: (5, 2), 14: (5, 3), 15: (6, 1), 16: (6, 2)}\n",
      "Graph : \n",
      "1 [(4, 1.0), (1, 2.5)]\n",
      "2 [(0, 2.5), (2, 2.5)]\n",
      "3 [(1, 2.5), (8, 6.0), (3, 3.0), (9, 2.5)]\n",
      "4 [(2, 3.0), (9, 3.0)]\n",
      "5 [(0, 1.0), (5, 6.0)]\n",
      "6 [(4, 6.0), (6, 4.0), (7, 6.0), (8, 10.0)]\n",
      "7 [(5, 4.0), (11, 10.0)]\n",
      "8 [(5, 6.0), (10, 6.0)]\n",
      "9 [(2, 6.0), (5, 10.0), (13, 15.0), (14, 20.0)]\n",
      "10 [(2, 2.5), (3, 3.0), (14, 10.0)]\n",
      "11 [(7, 6.0), (12, 4.0)]\n",
      "12 [(6, 10.0), (12, 2.0)]\n",
      "13 [(10, 4.0), (11, 2.0), (13, 12.0), (15, 11.0)]\n",
      "14 [(8, 15.0), (12, 12.0), (14, 5.0), (16, 2.5)]\n",
      "15 [(8, 20.0), (9, 10.0), (13, 5.0)]\n",
      "16 [(12, 11.0), (16, 1.0)]\n",
      "17 [(13, 2.5), (15, 1.0)]\n",
      "Start state :  0\n",
      "Goal state :  16\n"
     ]
    }
   ],
   "source": [
    "#this block is to print all the informations and then \n",
    "print(\"number of nodes : \" , n)\n",
    "print(\"Nodes with there coordinates : \")\n",
    "print(nodes)\n",
    "\n",
    "print(\"Graph : \")\n",
    "for i in range(n):\n",
    "    print(i+1, end = \" \")\n",
    "    print(graph[i])\n",
    "\n",
    "\n",
    "print(\"Start state : \" , start)\n",
    "print(\"Goal state : \" , goal)"
   ]
  },
  {
   "cell_type": "code",
   "execution_count": 4,
   "metadata": {},
   "outputs": [],
   "source": [
    "#using the same heuristic as that of the euclidean \n",
    "#but here we are going to take the vehicle that is the fastest and calculate time from it\n",
    "def euclidean_time (x , speed):\n",
    "    return math.sqrt((x[0] - nodes[goal][0]) ** 2 + (x[1] - nodes[goal][1]) ** 2) / speed"
   ]
  },
  {
   "cell_type": "code",
   "execution_count": 5,
   "metadata": {},
   "outputs": [],
   "source": [
    "#this function is going to take one argument of the number of congestion\n",
    "#this is not going to take care of the cost \n",
    "#just find the shortest path without taking into account of the budget\n",
    "def solve(congestion ):\n",
    "    #1 implies the full congestion\n",
    "    speed_cycle = 25.0\n",
    "    if (congestion == 1):\n",
    "        speed_bus = 100.0\n",
    "    elif (congestion == 2):\n",
    "        speed_bus = 37.5\n",
    "    else:\n",
    "        speed_bus = 10.0\n",
    "       \n",
    "    #this is computed in advance to compute the heuristic\n",
    "    speed = max (speed_bus , speed_cycle)\n",
    "    \n",
    "    d = dict()                  #to store the state of each nodes\n",
    "                                #first element will store the parent\n",
    "                                #second will store the cost till now\n",
    "                                #third will store the heuristic cost\n",
    "                                    \n",
    "    q = []                      #this is for the queue\n",
    "    heapq.heapify(q)\n",
    "    \n",
    "    explored = set()\n",
    "    \n",
    "    counter_queue = 0           #this is to break the counter\n",
    "    #initialise all the data structure\n",
    "    for i in range(n):                              #number of states is now twice\n",
    "        d[i] = (-1 , math.inf , euclidean_time(nodes[i] , speed))\n",
    "        \n",
    "    #this is for the start node\n",
    "    d[start] = (-1 , 0 , euclidean_time(nodes[start] , speed))\n",
    "    heapq.heappush (q , (d[start][1] + d[start][2] ,counter_queue , start))      #one more element is added to add the budget\n",
    "    \n",
    "    counter = 0\n",
    "    ans = False\n",
    "    while (len(q) >= 0 and ans == False):\n",
    "        \n",
    "        counter += 1\n",
    "        print(\"Number of steps : \" , counter)\n",
    "    \n",
    "        #popping the element\n",
    "        dist , waster ,current = heapq.heappop(q)\n",
    "        \n",
    "            \n",
    "        #checking for the goal state\n",
    "        if (current == goal):\n",
    "            ans = True\n",
    "            break\n",
    "            \n",
    "        explored.add(current)\n",
    "        \n",
    "        #for the lazy deletion\n",
    "        if (dist > d[current][1] + d[current][2]):\n",
    "            continue\n",
    "            \n",
    "        #main code \n",
    "        #extracting each edge and then updating the queue\n",
    "        for v in graph[current]:\n",
    "            vertex = v[0]\n",
    "            weight = v[1]\n",
    "            if (vertex not in explored):\n",
    "                if (weight <= 3):                  #this meant it is only for the cycle\n",
    "                    if (d[vertex][1] > d[current][1] + weight/speed_cycle ):\n",
    "                        d[vertex] = (current , d[current][1] + weight/speed_cycle , euclidean_time(nodes[vertex] , speed))\n",
    "                        counter_queue += 1\n",
    "                        heapq.heappush(q , (d[vertex][1] + d[vertex][2] , counter_queue  ,vertex))\n",
    "                \n",
    "                else:                                  #this meant both the bus and the cycle can take the action\n",
    "                    if (d[vertex][1] > d[current][1] + weight/speed_bus ):\n",
    "                        d[vertex] = (current , d[current][1] + weight/speed_bus , euclidean_time(nodes[vertex] , speed))\n",
    "                        counter_queue += 1\n",
    "                        heapq.heappush(q , (d[vertex][1] + d[vertex][2] , counter_queue , vertex))\n",
    "                        \n",
    "                    if (d[vertex][1] > d[current][1] + weight/speed_cycle ):\n",
    "                        d[vertex] = (current , d[current][1] + weight/speed_cycle , euclidean_time(nodes[vertex] , speed))\n",
    "                        counter_queue += 1\n",
    "                        heapq.heappush(q , (d[vertex][1] + d[vertex][2] , counter_queue , vertex))\n",
    "                    \n",
    "                    \n",
    "        \n",
    "    if (ans == False):\n",
    "        print(\"No solution\")\n",
    "        return\n",
    "    \n",
    "    current = goal\n",
    "    path = []\n",
    "    while (current != -1):\n",
    "        path.insert(0 , current)\n",
    "        current = d[current][0]\n",
    "    \n",
    "    print(\"The path is : \")\n",
    "    for i in path:\n",
    "        print(i+1 , end = \" \")\n",
    "    \n",
    "    print(\"\\nTotal cost (in terms of timer , in minutes) : \" , end = \" \")\n",
    "    print(60 * d[goal][1])\n",
    "        \n",
    "        "
   ]
  },
  {
   "cell_type": "code",
   "execution_count": 6,
   "metadata": {},
   "outputs": [
    {
     "name": "stdout",
     "output_type": "stream",
     "text": [
      "Number of steps :  1\n",
      "Number of steps :  2\n",
      "Number of steps :  3\n",
      "Number of steps :  4\n",
      "Number of steps :  5\n",
      "Number of steps :  6\n",
      "Number of steps :  7\n",
      "Number of steps :  8\n",
      "Number of steps :  9\n",
      "Number of steps :  10\n",
      "Number of steps :  11\n",
      "Number of steps :  12\n",
      "Number of steps :  13\n",
      "Number of steps :  14\n",
      "Number of steps :  15\n",
      "Number of steps :  16\n",
      "The path is : \n",
      "1 5 6 8 11 13 16 17 \n",
      "Total cost (in terms of timer , in minutes) :  24.599999999999998\n"
     ]
    }
   ],
   "source": [
    "solve(1)            #this is with full congestion"
   ]
  },
  {
   "cell_type": "code",
   "execution_count": 7,
   "metadata": {},
   "outputs": [
    {
     "name": "stdout",
     "output_type": "stream",
     "text": [
      "Number of steps :  1\n",
      "Number of steps :  2\n",
      "Number of steps :  3\n",
      "Number of steps :  4\n",
      "Number of steps :  5\n",
      "Number of steps :  6\n",
      "Number of steps :  7\n",
      "Number of steps :  8\n",
      "Number of steps :  9\n",
      "Number of steps :  10\n",
      "Number of steps :  11\n",
      "Number of steps :  12\n",
      "Number of steps :  13\n",
      "Number of steps :  14\n",
      "Number of steps :  15\n",
      "Number of steps :  16\n",
      "Number of steps :  17\n",
      "Number of steps :  18\n",
      "The path is : \n",
      "1 2 3 10 15 14 17 \n",
      "Total cost (in terms of timer , in minutes) :  47.99999999999999\n"
     ]
    }
   ],
   "source": [
    "solve(2)                  #half congestion"
   ]
  },
  {
   "cell_type": "code",
   "execution_count": 8,
   "metadata": {},
   "outputs": [
    {
     "name": "stdout",
     "output_type": "stream",
     "text": [
      "Number of steps :  1\n",
      "Number of steps :  2\n",
      "Number of steps :  3\n",
      "Number of steps :  4\n",
      "Number of steps :  5\n",
      "Number of steps :  6\n",
      "Number of steps :  7\n",
      "Number of steps :  8\n",
      "Number of steps :  9\n",
      "Number of steps :  10\n",
      "Number of steps :  11\n",
      "Number of steps :  12\n",
      "Number of steps :  13\n",
      "Number of steps :  14\n",
      "Number of steps :  15\n",
      "Number of steps :  16\n",
      "Number of steps :  17\n",
      "Number of steps :  18\n",
      "Number of steps :  19\n",
      "Number of steps :  20\n",
      "The path is : \n",
      "1 2 3 10 15 14 17 \n",
      "Total cost (in terms of timer , in minutes) :  60.000000000000014\n"
     ]
    }
   ],
   "source": [
    "solve(3)                            #this is for the full congestion"
   ]
  },
  {
   "cell_type": "code",
   "execution_count": 9,
   "metadata": {},
   "outputs": [],
   "source": [
    "#this function is going to take one argument of the number of congestion\n",
    "def solve_using_budget(congestion , budget , cost ):\n",
    "    #1 implies the full congestion\n",
    "    speed_cycle = 25.0\n",
    "    if (congestion == 1):\n",
    "        speed_bus = 100.0\n",
    "    elif (congestion == 2):\n",
    "        speed_bus = 37.5\n",
    "    else:\n",
    "        speed_bus = 10.0\n",
    "       \n",
    "    #this is computed in advance to compute the heuristic\n",
    "    speed = max (speed_bus , speed_cycle)\n",
    "    \n",
    "    \n",
    "    d = dict()                  #to store the state of each nodes\n",
    "                                #first element will store the parent\n",
    "                                #second will store the cost till now\n",
    "                                #third will store the heuristic cost\n",
    "                                #each node is now defined with the help of the vertex and the current budget\n",
    "    \n",
    "    q = []                      #this is for the queue\n",
    "    heapq.heapify(q)\n",
    "    \n",
    "    explored = set()\n",
    "    frontier = []\n",
    "    \n",
    "    \n",
    "    counter_queue = 0           #this is to break the counter\n",
    "    #initialise all the data structure\n",
    "    \n",
    "    #this is for the start node\n",
    "    #initialising the priority queue, state and frontier\n",
    "    d[(start , budget* 100)] = ((-1,-1) , 0 , euclidean_time(nodes[start] , speed))\n",
    "    heapq.heappush (q , (d[(start , budget*100)][1] + d[(start , budget*100)][2] , 100 * budget ,counter_queue  , start))      #one more element is added to add the budget\n",
    "    frontier.append((start , budget * 100))\n",
    "    \n",
    "    #to keep track of wether the solution is found or not\n",
    "    ans = False\n",
    "    final_money_left = -1\n",
    "    while (len(q) >= 0 and ans == False):\n",
    "        \n",
    "        #popping the element\n",
    "        dist ,  money_left, waster ,current = heapq.heappop(q)\n",
    "        frontier.remove((current , money_left))\n",
    "        \n",
    "        \n",
    "        #if money left is less than 0 then do not expand that node    \n",
    "        if (money_left < 0):\n",
    "            continue\n",
    "         \n",
    "        #checking for the goal state\n",
    "        if (current == goal):\n",
    "            final_money_left = money_left\n",
    "            ans = True\n",
    "            break\n",
    "         \n",
    "        #adding the node to the set of the explored state\n",
    "        explored.add((current, money_left))\n",
    "        \n",
    "        #for the lazy deletion\n",
    "        if (dist > d[(current, money_left)][1] + d[ (current, money_left)][2]):\n",
    "            continue\n",
    "        \n",
    "        #for converting it to the real money\n",
    "        money_temp = money_left / 100\n",
    "        \n",
    "        #main code \n",
    "        #extracting each edge and then updating the queue\n",
    "        for v in graph[current]:\n",
    "               \n",
    "            #only one action possible for the cycle\n",
    "            vertex = v[0]\n",
    "            weight = v[1]\n",
    "            budget_left = money_left\n",
    "            state = (vertex , budget_left)\n",
    "            \n",
    "            #for the cycle part \n",
    "            #The action here is to take the cycle\n",
    "            if (state not in explored and state not in frontier):\n",
    "                d[state] = ((current, money_left) , d[(current, money_left)][1] + weight/speed_cycle , euclidean_time(nodes[start] , speed))\n",
    "                counter_queue += 1\n",
    "                heapq.heappush(q , (d[state][1] + d[state][2] , budget_left , counter_queue , vertex))\n",
    "                frontier.append( state )\n",
    "                \n",
    "            elif state in frontier:\n",
    "                if (d[state][1] > d[(current, money_left)][1] + weight/speed_cycle ):\n",
    "                    d[state] = ((current, money_left) , d[(current, money_left)][1] + weight/speed_cycle , euclidean_time(nodes[start] , speed))\n",
    "                    counter_queue += 1\n",
    "                    heapq.heappush(q , (d[state][1] + d[state][2] , budget_left , counter_queue ,  vertex))\n",
    "                    frontier.append( state )\n",
    "            \n",
    "            #the action here is to take the bus\n",
    "            #calculating the cost and then checking if the bus can be taken or not\n",
    "            budget_left = int ((money_temp - (weight / speed_bus) * cost) * 100)\n",
    "            if (weight > 3 and budget_left > 0):  #now both the actions are allowed, so bus is also allowed\n",
    "                state = (vertex , budget_left)\n",
    "                if (state not in explored and state not in frontier):\n",
    "                    d[state] = ((current, money_left), d[(current, money_left)][1] + weight/speed_bus , euclidean_time(nodes[start] , speed))\n",
    "                    counter_queue += 1\n",
    "                    heapq.heappush(q , (d[state][1] + d[state][2] , budget_left, counter_queue ,  vertex))\n",
    "                    frontier.append( state )\n",
    "                \n",
    "                elif state in frontier:\n",
    "                    if (d[state][1] > d[(current, money_left)][1] + weight/speed_bus ):\n",
    "                        d[state] = ((current, money_left), d[(current, money_left)][1] + weight/speed_bus , euclidean_time(nodes[start] , speed))\n",
    "                        counter_queue += 1\n",
    "                        heapq.heappush(q , (d[state][1] + d[state][2] , budget_left ,counter_queue ,  vertex))\n",
    "                        frontier.append( state )\n",
    "    \n",
    "    #if the solution is not found\n",
    "    if (ans == False):\n",
    "        print(\"No solution\")\n",
    "        return\n",
    "    \n",
    "    #storing the path in path list and then printing the path\n",
    "    current = (goal , final_money_left)\n",
    "    path = []\n",
    "    while (current[0] != start):\n",
    "        path.insert(0 , current[0])\n",
    "        current = d[current][0]\n",
    "    \n",
    "    #printing the path\n",
    "    path.insert(0 , start)\n",
    "    print(\"The path is : \")\n",
    "    for i in path:\n",
    "        print(i+1 , end = \" \")\n",
    "    \n",
    "    #printing the path\n",
    "    current = (goal , final_money_left)\n",
    "    print(\"\\nTotal cost (in terms of timer , in minutes) : \" , end = \" \")\n",
    "    print(60 * d[current][1])\n",
    "    print( \"budget \" , budget - final_money_left/100)\n",
    "        \n",
    "        "
   ]
  },
  {
   "cell_type": "code",
   "execution_count": 10,
   "metadata": {},
   "outputs": [
    {
     "name": "stdout",
     "output_type": "stream",
     "text": [
      "The path is : \n",
      "1 2 3 10 15 14 17 \n",
      "Total cost (in terms of timer , in minutes) :  47.99999999999999\n",
      "budget  40.00999999999999\n"
     ]
    }
   ],
   "source": [
    "solve_using_budget(2 , 1000, 100)"
   ]
  },
  {
   "cell_type": "code",
   "execution_count": 11,
   "metadata": {},
   "outputs": [
    {
     "name": "stdout",
     "output_type": "stream",
     "text": [
      "The path is : \n",
      "1 2 3 10 15 14 17 \n",
      "Total cost (in terms of timer , in minutes) :  60.000000000000014\n",
      "budget  0.0\n"
     ]
    }
   ],
   "source": [
    "solve_using_budget(3 , 1000 , 1000)"
   ]
  },
  {
   "cell_type": "code",
   "execution_count": 12,
   "metadata": {},
   "outputs": [
    {
     "name": "stdout",
     "output_type": "stream",
     "text": [
      "The path is : \n",
      "1 5 6 8 11 13 16 17 \n",
      "Total cost (in terms of timer , in minutes) :  24.599999999999998\n",
      "budget  330.0\n"
     ]
    }
   ],
   "source": [
    "solve_using_budget(1 , 1000 , 1000)"
   ]
  },
  {
   "cell_type": "code",
   "execution_count": 13,
   "metadata": {},
   "outputs": [
    {
     "name": "stdout",
     "output_type": "stream",
     "text": [
      "The path is : \n",
      "1 2 3 10 15 14 17 \n",
      "Total cost (in terms of timer , in minutes) :  51.00000000000001\n",
      "budget  500.0\n"
     ]
    }
   ],
   "source": [
    "solve_using_budget(1 , 1000 , 10000)"
   ]
  },
  {
   "cell_type": "code",
   "execution_count": 14,
   "metadata": {},
   "outputs": [
    {
     "name": "stdout",
     "output_type": "stream",
     "text": [
      "The path is : \n",
      "1 2 3 10 15 14 17 \n",
      "Total cost (in terms of timer , in minutes) :  60.000000000000014\n",
      "budget  0.0\n"
     ]
    }
   ],
   "source": [
    "solve_using_budget(3 , 0 , 1)"
   ]
  },
  {
   "cell_type": "code",
   "execution_count": null,
   "metadata": {},
   "outputs": [],
   "source": []
  }
 ],
 "metadata": {
  "kernelspec": {
   "display_name": "Python 3",
   "language": "python",
   "name": "python3"
  },
  "language_info": {
   "codemirror_mode": {
    "name": "ipython",
    "version": 3
   },
   "file_extension": ".py",
   "mimetype": "text/x-python",
   "name": "python",
   "nbconvert_exporter": "python",
   "pygments_lexer": "ipython3",
   "version": "3.6.5"
  }
 },
 "nbformat": 4,
 "nbformat_minor": 2
}
