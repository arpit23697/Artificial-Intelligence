{
 "cells": [
  {
   "cell_type": "code",
   "execution_count": 1,
   "metadata": {},
   "outputs": [],
   "source": [
    "#import all the libraries\n",
    "import math\n",
    "import random\n",
    "import numpy as np\n",
    "import matplotlib.pyplot as plt"
   ]
  },
  {
   "cell_type": "code",
   "execution_count": 2,
   "metadata": {},
   "outputs": [],
   "source": [
    "#initialising all the global varaibles\n",
    "#since all the values of the given problem are initialised here so we can change it here\n",
    "#The program is not running for higher values\n",
    "\n",
    "TOTAL_LOCATIONS = 3\n",
    "\n",
    "MAX_CAR_LOC1 = 4\n",
    "MAX_CAR_LOC2 = 4\n",
    "MAX_CAR_LOC3 = 4\n",
    "\n",
    "MAX_CAR = [4 , 4 , 4]\n",
    "\n",
    "LAMBDA_REQ_LOC1 = 3\n",
    "LAMBDA_REQ_LOC2 = 2\n",
    "LAMBDA_REQ_LOC3 = 2\n",
    "\n",
    "LAMBDA_RETURN_LOC1 = 3\n",
    "LAMBDA_RETURN_LOC2 = 1\n",
    "LAMBDA_RETURN_LOC3 = 1\n",
    "\n",
    "MAX_CAR_SHIFT = 3\n",
    "\n",
    "GAMMA = 0.9\n",
    "\n",
    "CAR_REQUEST_REWARD = 10\n",
    "CAR_MOVE_COST_LOC1_LOC2 = -2\n",
    "CAR_MOVE_COST_LOC2_LOC3 = 0\n",
    "CAR_MOVE_COST_LOC1_LOC3 = -2\n",
    "\n",
    "THRESHOLD_CONVERGENCE = 0.1\n",
    "\n",
    "P_BACKUP = {}"
   ]
  },
  {
   "cell_type": "code",
   "execution_count": 3,
   "metadata": {},
   "outputs": [
    {
     "name": "stdout",
     "output_type": "stream",
     "text": [
      "Size of action space :  108\n",
      "Size of state space :  125\n",
      "Size of state values :  (5, 5, 5)\n"
     ]
    }
   ],
   "source": [
    "#this is for the state space\n",
    "state_space = []\n",
    "\n",
    "for x in range(MAX_CAR_LOC1 + 1):\n",
    "    for y in range(MAX_CAR_LOC2 + 1):\n",
    "        for z in range(MAX_CAR_LOC3 + 1):\n",
    "            state_space.append((x , y , z))\n",
    "            \n",
    "\n",
    "#for the state values\n",
    "state_values = np.zeros((MAX_CAR_LOC1+1 , MAX_CAR_LOC2+1 , MAX_CAR_LOC3+1))\n",
    "policy = np.zeros((MAX_CAR_LOC1+1 , MAX_CAR_LOC2+1 , MAX_CAR_LOC3+1))\n",
    "#action space\n",
    "\n",
    "#action is also a four tuple:\n",
    "    #first element : Gives the first location\n",
    "    #second element : Gives the second location\n",
    "    #third element : Number of cars to be moved from first location to third location\n",
    "    #fourth element : Number of cars to be moved from second location to third location\n",
    "    \n",
    "action_space = []\n",
    "\n",
    "for x in range(TOTAL_LOCATIONS):\n",
    "    for y in range(x+1 , TOTAL_LOCATIONS):\n",
    "        for a in range(MAX_CAR_SHIFT + 1):\n",
    "            for b in range(5 - a + 1):\n",
    "                action_space.append( (x , y , a , b) )\n",
    "                action_space.append( (y , x , a , b) )\n",
    "\n",
    "action_space = sorted(action_space)\n",
    "\n",
    "#for the size of action space and the state space\n",
    "print(\"Size of action space : \" , len(action_space) )\n",
    "print(\"Size of state space : \" , len(state_space))\n",
    "print(\"Size of state values : \" , state_values.shape )\n",
    "\n",
    "#print(action_space)"
   ]
  },
  {
   "cell_type": "code",
   "execution_count": 4,
   "metadata": {},
   "outputs": [],
   "source": [
    "#given the value of the x and the lambda it will give the probability of the distribution\n",
    "def poisson (x , lam):\n",
    "    global P_BACKUP\n",
    "    key = (x , lam)\n",
    "    if key not in P_BACKUP.keys():\n",
    "        P_BACKUP[key] = np.exp(-lam) * pow(lam , x) / math.factorial(x)\n",
    "    \n",
    "    return P_BACKUP[key]"
   ]
  },
  {
   "cell_type": "code",
   "execution_count": 5,
   "metadata": {},
   "outputs": [],
   "source": [
    "#given an action it will check if the given action is valid or not in that particular state\n",
    "\n",
    "\n",
    "#action is also a four tuple:\n",
    "    #first element : Gives the first location\n",
    "    #second element : Gives the second location\n",
    "    #third element : Number of cars to be moved from first location to third location\n",
    "    #fourth element : Number of cars to be moved from second location to third location\n",
    "\n",
    "def action_valid (action , state):\n",
    "    \n",
    "    #extract the values\n",
    "    car1 , car2 , car3 = state\n",
    "    loc1 , loc2 , move_13 , move_23 = action\n",
    "    \n",
    "    #the action will be invalid if the cars at particular location is less than it want to sent to \n",
    "    #other location\n",
    "    \n",
    "    if (state[loc1] < move_13):\n",
    "        return False\n",
    "    \n",
    "    if (state[loc2] < move_23):\n",
    "        return False\n",
    "    \n",
    "    return True\n",
    "    "
   ]
  },
  {
   "cell_type": "code",
   "execution_count": 6,
   "metadata": {},
   "outputs": [
    {
     "name": "stdout",
     "output_type": "stream",
     "text": [
      "False\n"
     ]
    }
   ],
   "source": [
    "action = (2 , 0 , 2 , 3)\n",
    "state = (2, 0 , 5)\n",
    "print(action_valid(action , state))"
   ]
  },
  {
   "cell_type": "code",
   "execution_count": 7,
   "metadata": {},
   "outputs": [],
   "source": [
    "#Given the state and the action it will return the new state\n",
    "#Note this function do not check if the action is valid or not in that particular state\n",
    "#this will also return the reward\n",
    "\n",
    "def other_location (loc1 , loc2):\n",
    "    return (3 - (loc1 + loc2))\n",
    "    \n",
    "\n",
    "\n",
    "\n",
    "def next_state (action , state):\n",
    "    loc1 , loc2 , move_13 , move_23 = action\n",
    "    \n",
    "    #this is the third location\n",
    "    loc3 = other_location(loc1 , loc2)\n",
    "    \n",
    "    #now move the cars from loc1 to loc3 and loc2 to loc3\n",
    "    new_state = [-1 , -1 , -1]\n",
    "    \n",
    "    new_state[loc1] = state[loc1] - move_13\n",
    "    new_state[loc2] = state[loc2] - move_23\n",
    "    \n",
    "    new_state[loc3] = state[loc3] + move_13 + move_23\n",
    "    new_state[loc3] = min(new_state[loc3] , MAX_CAR[loc3] )\n",
    "\n",
    "    reward = 0\n",
    "    if ( (loc1 == 0 and loc3 == 1) or (loc1 == 1 and loc3 == 0)):\n",
    "        reward += move_13 * CAR_MOVE_COST_LOC1_LOC2\n",
    "    elif ((loc1 == 0 and loc3 == 2) or (loc1 == 2 and loc3 == 0)):\n",
    "        reward += move_13 * CAR_MOVE_COST_LOC1_LOC3\n",
    "    elif((loc1 == 1 and loc3 == 2) or (loc1 == 2 and loc3 == 1)):\n",
    "        reward += move_13 * CAR_MOVE_COST_LOC2_LOC3\n",
    "        \n",
    "    if ( (loc2 == 0 and loc3 == 1) or (loc2 == 1 and loc3 == 0)):\n",
    "        reward += move_23 * CAR_MOVE_COST_LOC1_LOC2\n",
    "    elif ((loc2 == 0 and loc3 == 2) or (loc2 == 2 and loc3 == 0)):\n",
    "        reward += move_23 * CAR_MOVE_COST_LOC1_LOC3\n",
    "    elif((loc2 == 1 and loc3 == 2) or (loc2 == 2 and loc3 == 1)):\n",
    "        reward += move_23 * CAR_MOVE_COST_LOC2_LOC3\n",
    "    \n",
    "    \n",
    "    \n",
    "    return (new_state[0] , new_state[1] , new_state[2] , reward)\n",
    "    "
   ]
  },
  {
   "cell_type": "code",
   "execution_count": 8,
   "metadata": {},
   "outputs": [
    {
     "name": "stdout",
     "output_type": "stream",
     "text": [
      "(4, 0, 0, -8)\n"
     ]
    }
   ],
   "source": [
    "action = (1 , 2 , 2 , 2)\n",
    "state = (3, 2 , 2)\n",
    "\n",
    "print(next_state(action , state))"
   ]
  },
  {
   "cell_type": "code",
   "execution_count": 9,
   "metadata": {},
   "outputs": [],
   "source": [
    "#given the state and the action this will give the new value of taking that action in that state\n",
    "#note this function is not going to check the validity of the action\n",
    "#it will just return the new value of the state given the state and the action\n",
    "\n",
    "\n",
    "def new_state_value (action , state , state_values):\n",
    "    \n",
    "    ret = -1\n",
    "    #after moving the cars what is the cost of moving and the next state n_state\n",
    "    cars_loc1 , cars_loc2 , cars_loc3, ret = next_state(action , state)\n",
    "    n_state = (cars_loc1 , cars_loc2, cars_loc3)\n",
    "    \n",
    "    #from n_state go to all the states with poisson distribution and accumulate the reward\n",
    "    \n",
    "    #rentals mean they will give this many car to the values\n",
    "    #if request is greater than cars available then request changes to cars available\n",
    "    for rentals_loc1 in range(0 , MAX_CAR_LOC1):\n",
    "        for rentals_loc2 in range(0 , MAX_CAR_LOC2):\n",
    "            for rentals_loc3 in range(0 , MAX_CAR_LOC3):\n",
    "                rental_prob = poisson(rentals_loc1 , LAMBDA_REQ_LOC1) * poisson(rentals_loc2 , LAMBDA_REQ_LOC2) * poisson(rentals_loc3 , LAMBDA_REQ_LOC3) \n",
    "                \n",
    "                total_rental_loc1 = min(cars_loc1 , rentals_loc1)\n",
    "                total_rental_loc2 = min(cars_loc2 , rentals_loc2)\n",
    "                total_rental_loc3 = min(cars_loc3 , rentals_loc3)\n",
    "                \n",
    "                rewards = (total_rental_loc1 + total_rental_loc2 + total_rental_loc3) * CAR_REQUEST_REWARD\n",
    "                \n",
    "                for returns_loc1 in range(0 , MAX_CAR_LOC1):\n",
    "                    for returns_loc2 in range(0 , MAX_CAR_LOC2):\n",
    "                        for returns_loc3 in range(0 , MAX_CAR_LOC3):\n",
    "                            \n",
    "                            return_prob = poisson(returns_loc1 , LAMBDA_RETURN_LOC1) * poisson(returns_loc2 , LAMBDA_RETURN_LOC2) * poisson(returns_loc3 , LAMBDA_RETURN_LOC3)\n",
    "                            prob = return_prob * rental_prob\n",
    "                            \n",
    "                            next_state1 = min (MAX_CAR_LOC1 , cars_loc1 - total_rental_loc1 + returns_loc1)\n",
    "                            next_state2 = min(MAX_CAR_LOC2 , cars_loc2 - total_rental_loc2 + returns_loc2)\n",
    "                            next_state3 = min(MAX_CAR_LOC3 , cars_loc3 - total_rental_loc3 + returns_loc3)\n",
    "                            \n",
    "                            next_st = (next_state1 , next_state2 , next_state3)\n",
    "                            ret += prob * (rewards + GAMMA * state_values[next_st])\n",
    "                            \n",
    "                            \n",
    "    \n",
    "    \n",
    "    return ret"
   ]
  },
  {
   "cell_type": "code",
   "execution_count": 10,
   "metadata": {},
   "outputs": [
    {
     "name": "stdout",
     "output_type": "stream",
     "text": [
      "10.48619523664135\n"
     ]
    }
   ],
   "source": [
    "action = (0 , 1 , 0 , 0)\n",
    "state = (4, 4 , 0)\n",
    "\n",
    "print(new_state_value(action , state , state_values))"
   ]
  },
  {
   "cell_type": "code",
   "execution_count": 11,
   "metadata": {},
   "outputs": [],
   "source": [
    "#this is synchronous update\n",
    "#this will return the optimal value function\n",
    "\n",
    "#given the old state values it will give the new state values after one complete iteration\n",
    "\n",
    "def value_iteration(state_values , policy):\n",
    "    \n",
    "    #for all the states take all the actions\n",
    "    threshold = -math.inf\n",
    "    \n",
    "    for s , state in zip(range(len(state_space)) , state_space): \n",
    "        new_value = []\n",
    "        if (s % 20 == 0):\n",
    "            print(s)\n",
    "        for action in action_space:\n",
    "            \n",
    "            temp = -1\n",
    "            if(action_valid(action , state)):\n",
    "                temp = new_state_value(action , state , state_values)\n",
    "                new_value.append(temp)\n",
    "                \n",
    "            else:\n",
    "                new_value.append(-math.inf)\n",
    "                \n",
    "        optimal_value = max(new_value)\n",
    "        optimal_action = np.argmax(new_value)\n",
    "        \n",
    "        threshold = max(threshold , abs(state_values[state] - optimal_value) )\n",
    "        \n",
    "        #this is updating as soon as you get answer\n",
    "        state_values[state] = optimal_value\n",
    "        policy[state] = optimal_action\n",
    "        \n",
    "    return (threshold , state_values , policy)\n",
    "            "
   ]
  },
  {
   "cell_type": "code",
   "execution_count": 12,
   "metadata": {},
   "outputs": [
    {
     "name": "stdout",
     "output_type": "stream",
     "text": [
      "0\n",
      "20\n",
      "40\n",
      "60\n",
      "80\n",
      "100\n",
      "120\n",
      "Number of iterations :  1 19.398188384295295\n",
      "0\n",
      "20\n",
      "40\n",
      "60\n",
      "80\n",
      "100\n",
      "120\n",
      "Number of iterations :  2 3.728045171768395\n",
      "0\n",
      "20\n",
      "40\n",
      "60\n",
      "80\n",
      "100\n",
      "120\n",
      "Number of iterations :  3 0.6573441337898931\n",
      "0\n",
      "20\n",
      "40\n",
      "60\n",
      "80\n",
      "100\n",
      "120\n",
      "Number of iterations :  4 0.11184879729217778\n",
      "0\n",
      "20\n",
      "40\n",
      "60\n",
      "80\n",
      "100\n",
      "120\n",
      "Number of iterations :  5 0.016326754980606317\n"
     ]
    }
   ],
   "source": [
    "threshold = math.inf\n",
    "\n",
    "num_of_iterations = 0\n",
    "while (threshold > THRESHOLD_CONVERGENCE):\n",
    "    num_of_iterations += 1\n",
    "    threshold , state_values , policy = value_iteration(state_values , policy)\n",
    "    print(\"Number of iterations : \" , num_of_iterations , threshold)"
   ]
  },
  {
   "cell_type": "code",
   "execution_count": 13,
   "metadata": {
    "scrolled": true
   },
   "outputs": [
    {
     "name": "stdout",
     "output_type": "stream",
     "text": [
      "[[[ 3.22822772  5.80728141  8.38359077 10.1699145  11.93242109]\n",
      "  [ 5.8073446   8.38365885 10.16998824 11.93250089 12.85055981]\n",
      "  [ 8.38373635 10.170043   11.93256132 12.85062601 13.71081492]\n",
      "  [10.17009647 11.93260663 12.85067705 13.71086626 14.46879901]\n",
      "  [11.9326387  12.85071883 13.71090846 14.4688358  14.70128762]]\n",
      "\n",
      " [[ 5.98776373  8.56674017 11.14296922 12.92895642 14.69122278]\n",
      "  [ 8.56690264 11.14312573 12.92912209 14.69140076 15.60907521]\n",
      "  [11.14329696 12.92924827 14.69152913 15.60921046 16.46917211]\n",
      "  [12.92935119 14.69162339 15.60931425 16.46927702 16.70158979]\n",
      "  [14.69168791 15.60939793 16.46936154 16.70173869 16.86751596]]\n",
      "\n",
      " [[ 8.12597758 10.70440493 13.28013085 15.06486686 16.82619495]\n",
      "  [10.7045505  13.28026438 15.06500586 16.82634311 17.74285121]\n",
      "  [13.28040579 15.06511751 16.82644506 17.742954   18.6021033 ]\n",
      "  [15.0651975  16.82651846 17.74302614 18.60218379 18.83371378]\n",
      "  [16.82656742 17.74308703 18.60224728 18.83381102 18.99889485]]\n",
      "\n",
      " [[ 9.30274079 11.8800471  14.45474608 16.23698907 17.9964452 ]\n",
      "  [11.88012797 14.45482312 16.23706887 17.99652943 18.91074658]\n",
      "  [14.45490302 16.23712173 17.99658652 18.91080724 19.76847402]\n",
      "  [16.23717032 17.99662654 18.91085047 19.76851713 19.99865802]\n",
      "  [17.99665266 18.91088391 19.76855034 19.99871559 20.16269093]]\n",
      "\n",
      " [[ 9.88032386 12.45500736 14.62760606 16.40645838 18.16338448]\n",
      "  [12.45506213 14.62769863 16.40654862 18.16347802 19.07461206]\n",
      "  [14.6277866  16.40661423 18.16353069 19.07466513 19.93041381]\n",
      "  [16.40665322 18.16356574 19.07469987 19.9304498  20.15886821]\n",
      "  [18.16358671 19.07471945 19.93047713 20.15889864 20.32166733]]]\n"
     ]
    }
   ],
   "source": [
    "print(state_values)"
   ]
  },
  {
   "cell_type": "code",
   "execution_count": 18,
   "metadata": {},
   "outputs": [
    {
     "data": {
      "image/png": "[encoded data removed]",
      "text/plain": [
       "<Figure size 576x432 with 1 Axes>"
      ]
     },
     "metadata": {},
     "output_type": "display_data"
    },
    {
     "data": {
      "image/png": "[encoded data removed]",
      "text/plain": [
       "<Figure size 576x432 with 1 Axes>"
      ]
     },
     "metadata": {},
     "output_type": "display_data"
    },
    {
     "data": {
      "image/png": "[encoded data removed]",
      "text/plain": [
       "<Figure size 576x432 with 1 Axes>"
      ]
     },
     "metadata": {},
     "output_type": "display_data"
    },
    {
     "data": {
      "image/png": "[encoded data removed]",
      "text/plain": [
       "<Figure size 576x432 with 1 Axes>"
      ]
     },
     "metadata": {},
     "output_type": "display_data"
    },
    {
     "data": {
      "image/png": "[encoded data removed]",
      "text/plain": [
       "<Figure size 576x432 with 1 Axes>"
      ]
     },
     "metadata": {},
     "output_type": "display_data"
    }
   ],
   "source": [
    "for i in range(state_values.shape[2]):\n",
    "    plt.figure(figsize = (8 , 6))\n",
    "    plt.imshow (state_values[: , : , i] , interpolation=\"nearest\")\n",
    "    plt.title(\"z = \" + str(i))"
   ]
  },
  {
   "cell_type": "code",
   "execution_count": 15,
   "metadata": {},
   "outputs": [
    {
     "name": "stdout",
     "output_type": "stream",
     "text": [
      "[[[ 0. 19. 19. 20. 20.]\n",
      "  [ 0.  0. 19. 19. 20.]\n",
      "  [ 1.  0.  0. 19. 19.]\n",
      "  [ 1.  1.  0.  0. 55.]\n",
      "  [ 2.  1.  1. 60. 55.]]\n",
      "\n",
      " [[ 0. 19. 19. 20. 20.]\n",
      "  [ 1.  0. 19. 19. 19.]\n",
      "  [ 1.  1.  0. 19. 19.]\n",
      "  [ 1.  1.  0.  0. 19.]\n",
      "  [ 2.  1.  1.  0.  0.]]\n",
      "\n",
      " [[ 0. 19. 19. 20. 20.]\n",
      "  [ 1.  0. 19. 19. 19.]\n",
      "  [ 1.  1.  0.  0. 19.]\n",
      "  [ 2.  1.  1.  0.  0.]\n",
      "  [ 2.  1.  1.  0.  0.]]\n",
      "\n",
      " [[ 0. 19. 19. 20. 20.]\n",
      "  [ 1.  0. 19. 19. 20.]\n",
      "  [ 1.  0.  0. 19. 19.]\n",
      "  [ 1.  1.  0.  0. 19.]\n",
      "  [ 2.  1.  1.  0.  0.]]\n",
      "\n",
      " [[24. 24. 19. 20. 20.]\n",
      "  [ 6.  0. 19. 19. 19.]\n",
      "  [ 1.  1.  0.  0. 19.]\n",
      "  [ 2.  1.  1.  0.  0.]\n",
      "  [ 2.  2.  1.  0.  0.]]]\n"
     ]
    }
   ],
   "source": [
    "print(policy)"
   ]
  },
  {
   "cell_type": "code",
   "execution_count": 16,
   "metadata": {},
   "outputs": [
    {
     "name": "stdout",
     "output_type": "stream",
     "text": [
      "Mapping of action encoded in policy to actual state\n",
      "1 (0, 1, 0, 0)\n",
      "2 (0, 1, 0, 1)\n",
      "3 (0, 1, 0, 2)\n",
      "4 (0, 1, 0, 3)\n",
      "5 (0, 1, 0, 4)\n",
      "6 (0, 1, 0, 5)\n",
      "7 (0, 1, 1, 0)\n",
      "8 (0, 1, 1, 1)\n",
      "9 (0, 1, 1, 2)\n",
      "10 (0, 1, 1, 3)\n",
      "11 (0, 1, 1, 4)\n",
      "12 (0, 1, 2, 0)\n",
      "13 (0, 1, 2, 1)\n",
      "14 (0, 1, 2, 2)\n",
      "15 (0, 1, 2, 3)\n",
      "16 (0, 1, 3, 0)\n",
      "17 (0, 1, 3, 1)\n",
      "18 (0, 1, 3, 2)\n",
      "19 (0, 2, 0, 0)\n",
      "20 (0, 2, 0, 1)\n",
      "21 (0, 2, 0, 2)\n",
      "22 (0, 2, 0, 3)\n",
      "23 (0, 2, 0, 4)\n",
      "24 (0, 2, 0, 5)\n",
      "25 (0, 2, 1, 0)\n",
      "26 (0, 2, 1, 1)\n",
      "27 (0, 2, 1, 2)\n",
      "28 (0, 2, 1, 3)\n",
      "29 (0, 2, 1, 4)\n",
      "30 (0, 2, 2, 0)\n",
      "31 (0, 2, 2, 1)\n",
      "32 (0, 2, 2, 2)\n",
      "33 (0, 2, 2, 3)\n",
      "34 (0, 2, 3, 0)\n",
      "35 (0, 2, 3, 1)\n",
      "36 (0, 2, 3, 2)\n",
      "37 (1, 0, 0, 0)\n",
      "38 (1, 0, 0, 1)\n",
      "39 (1, 0, 0, 2)\n",
      "40 (1, 0, 0, 3)\n",
      "41 (1, 0, 0, 4)\n",
      "42 (1, 0, 0, 5)\n",
      "43 (1, 0, 1, 0)\n",
      "44 (1, 0, 1, 1)\n",
      "45 (1, 0, 1, 2)\n",
      "46 (1, 0, 1, 3)\n",
      "47 (1, 0, 1, 4)\n",
      "48 (1, 0, 2, 0)\n",
      "49 (1, 0, 2, 1)\n",
      "50 (1, 0, 2, 2)\n",
      "51 (1, 0, 2, 3)\n",
      "52 (1, 0, 3, 0)\n",
      "53 (1, 0, 3, 1)\n",
      "54 (1, 0, 3, 2)\n",
      "55 (1, 2, 0, 0)\n",
      "56 (1, 2, 0, 1)\n",
      "57 (1, 2, 0, 2)\n",
      "58 (1, 2, 0, 3)\n",
      "59 (1, 2, 0, 4)\n",
      "60 (1, 2, 0, 5)\n",
      "61 (1, 2, 1, 0)\n",
      "62 (1, 2, 1, 1)\n",
      "63 (1, 2, 1, 2)\n",
      "64 (1, 2, 1, 3)\n",
      "65 (1, 2, 1, 4)\n",
      "66 (1, 2, 2, 0)\n",
      "67 (1, 2, 2, 1)\n",
      "68 (1, 2, 2, 2)\n",
      "69 (1, 2, 2, 3)\n",
      "70 (1, 2, 3, 0)\n",
      "71 (1, 2, 3, 1)\n",
      "72 (1, 2, 3, 2)\n",
      "73 (2, 0, 0, 0)\n",
      "74 (2, 0, 0, 1)\n",
      "75 (2, 0, 0, 2)\n",
      "76 (2, 0, 0, 3)\n",
      "77 (2, 0, 0, 4)\n",
      "78 (2, 0, 0, 5)\n",
      "79 (2, 0, 1, 0)\n",
      "80 (2, 0, 1, 1)\n",
      "81 (2, 0, 1, 2)\n",
      "82 (2, 0, 1, 3)\n",
      "83 (2, 0, 1, 4)\n",
      "84 (2, 0, 2, 0)\n",
      "85 (2, 0, 2, 1)\n",
      "86 (2, 0, 2, 2)\n",
      "87 (2, 0, 2, 3)\n",
      "88 (2, 0, 3, 0)\n",
      "89 (2, 0, 3, 1)\n",
      "90 (2, 0, 3, 2)\n",
      "91 (2, 1, 0, 0)\n",
      "92 (2, 1, 0, 1)\n",
      "93 (2, 1, 0, 2)\n",
      "94 (2, 1, 0, 3)\n",
      "95 (2, 1, 0, 4)\n",
      "96 (2, 1, 0, 5)\n",
      "97 (2, 1, 1, 0)\n",
      "98 (2, 1, 1, 1)\n",
      "99 (2, 1, 1, 2)\n",
      "100 (2, 1, 1, 3)\n",
      "101 (2, 1, 1, 4)\n",
      "102 (2, 1, 2, 0)\n",
      "103 (2, 1, 2, 1)\n",
      "104 (2, 1, 2, 2)\n",
      "105 (2, 1, 2, 3)\n",
      "106 (2, 1, 3, 0)\n",
      "107 (2, 1, 3, 1)\n",
      "108 (2, 1, 3, 2)\n"
     ]
    }
   ],
   "source": [
    "print(\"Mapping of action encoded in policy to actual state\")\n",
    "for x , action in zip(range(1 , len(action_space) + 1) , action_space):\n",
    "    print(x , action)"
   ]
  },
  {
   "cell_type": "code",
   "execution_count": null,
   "metadata": {},
   "outputs": [],
   "source": []
  }
 ],
 "metadata": {
  "kernelspec": {
   "display_name": "Python 3",
   "language": "python",
   "name": "python3"
  },
  "language_info": {
   "codemirror_mode": {
    "name": "ipython",
    "version": 3
   },
   "file_extension": ".py",
   "mimetype": "text/x-python",
   "name": "python",
   "nbconvert_exporter": "python",
   "pygments_lexer": "ipython3",
   "version": "3.6.5"
  }
 },
 "nbformat": 4,
 "nbformat_minor": 2
}
