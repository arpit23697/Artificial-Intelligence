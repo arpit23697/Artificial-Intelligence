{
 "cells": [
  {
   "cell_type": "code",
   "execution_count": 1,
   "metadata": {},
   "outputs": [],
   "source": [
    "import numpy as np\n",
    "import math\n",
    "import matplotlib.pyplot as plt"
   ]
  },
  {
   "cell_type": "code",
   "execution_count": 2,
   "metadata": {},
   "outputs": [],
   "source": [
    "#given the batsmen and the action it is to give two probabilities\n",
    "#first is the probability of getting out\n",
    "#second gives the probability of scoring the run\n",
    "def get_probabilies (action , x):\n",
    "    \n",
    "    if (x < 1 or x > 10 ):\n",
    "        return (-1 , -1)\n",
    "    pw_min = [0.01, 0.02, 0.03, 0.1, 0.3]        #for the best problem\n",
    "    pw_max = [0.1, 0.2, 0.3, 0.5, 0.7]           #for the worst problem\n",
    "    \n",
    "    pw = pw_max[action] + (pw_min[action] - pw_max[action]) * ( (x-1)/9 )\n",
    "    \n",
    "    #for the probability of scoring if the batsmen is not getting out\n",
    "    pr_min = 0.5\n",
    "    pr_max = 0.8\n",
    "    \n",
    "    pr = pr_min + (pr_max - pr_min) * ( (x-1)/9)\n",
    "    return (pw , pr)"
   ]
  },
  {
   "cell_type": "code",
   "execution_count": 3,
   "metadata": {},
   "outputs": [],
   "source": [
    "def bellman (old_value):\n",
    "    new_value = np.zeros (old_value.shape)\n",
    "    policy = np.zeros (old_value.shape , dtype = int)\n",
    "    \n",
    "    #rows give the number of balls left\n",
    "    #columns give the number of wicket left\n",
    "    \n",
    "    runs = [1,2,3,4,6]\n",
    "    \n",
    "    for i in range(1 , old_value.shape[0]):\n",
    "        for j in range(1 , old_value.shape[1]):\n",
    "            \n",
    "            final_value = -1\n",
    "            for action in [0,1,2,3,4]:               #actions encode the correspoding score he is trying to score\n",
    "                ans = 0\n",
    "                pw , pr = get_probabilies (action , j)   # 0 - 1, 1 - 2 , 2 -3 , 3 -4 ,4-6\n",
    "                ans += pw * (0 + new_value[i-1][j-1])\n",
    "                ans += (1-pw) * pr* (runs[action] + new_value[i-1][j] )\n",
    "                ans += (1 - pw) * (1-pr) * (0 + new_value[i-1][j])    \n",
    "                if (final_value < ans):\n",
    "                    final_value = ans\n",
    "                    policy[i][j] = runs[action]\n",
    "            \n",
    "            new_value[i][j] = final_value\n",
    "    return  np.copy (new_value) ,np.copy(policy)"
   ]
  },
  {
   "cell_type": "code",
   "execution_count": 4,
   "metadata": {},
   "outputs": [],
   "source": [
    "current_value = np.zeros ((301 , 11))\n",
    "policy = np.zeros (current_value.shape , dtype = np.int)\n",
    "update , policy= bellman (current_value)"
   ]
  },
  {
   "cell_type": "code",
   "execution_count": 5,
   "metadata": {
    "scrolled": true
   },
   "outputs": [],
   "source": [
    "np.set_printoptions(formatter={'float': '{: 0.0f}'.format})\n",
    "np.savetxt(\"policy.txt\" , policy , fmt = \"%i\")"
   ]
  },
  {
   "cell_type": "code",
   "execution_count": 6,
   "metadata": {},
   "outputs": [],
   "source": [
    "np.savetxt(\"value.txt\" , update , fmt = \"%i\")"
   ]
  },
  {
   "cell_type": "code",
   "execution_count": null,
   "metadata": {},
   "outputs": [],
   "source": []
  }
 ],
 "metadata": {
  "kernelspec": {
   "display_name": "Python 3",
   "language": "python",
   "name": "python3"
  },
  "language_info": {
   "codemirror_mode": {
    "name": "ipython",
    "version": 3
   },
   "file_extension": ".py",
   "mimetype": "text/x-python",
   "name": "python",
   "nbconvert_exporter": "python",
   "pygments_lexer": "ipython3",
   "version": "3.6.5"
  }
 },
 "nbformat": 4,
 "nbformat_minor": 2
}
