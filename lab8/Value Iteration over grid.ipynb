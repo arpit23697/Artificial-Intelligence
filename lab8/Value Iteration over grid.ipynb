{
 "cells": [
  {
   "cell_type": "code",
   "execution_count": 1,
   "metadata": {},
   "outputs": [],
   "source": [
    "import pandas as pd\n",
    "import numpy as np\n",
    "import math\n",
    "import heapq\n",
    "import matplotlib.pyplot as plt"
   ]
  },
  {
   "cell_type": "code",
   "execution_count": 40,
   "metadata": {},
   "outputs": [],
   "source": [
    "class Problem :\n",
    "    #this is define the problem structure of the problem\n",
    "    def __init__ (self):\n",
    "        self.n = 5                   #this is the dimension of the matrix\n",
    "                                              #action set is the number of possible actions in each set\n",
    "        self.reward = np.zeros ((self.n , self.n))\n",
    "        self.reward[self.n - 1][self.n - 1] = 1     #put the +1 reward at the right most corner\n",
    "        self.reward[0][0] = 10\n",
    "        #self.reward[2][2] = 1\n",
    "        self.p = 0.9        #if we take the action then determinsitically enter that state with \n",
    "                                       #this much probability and the remaining probabilities are divided equally\n",
    "                                        #in each state you have four probabilities\n",
    "                \n",
    "        self.discount = 0.6\n",
    "        \n",
    "    def isValid (self, x , y):\n",
    "        if (x >= 0 and x < self.n  and y >=0 and y < self.n):\n",
    "            return True\n",
    "        return False\n",
    "    \n",
    "    def movement_coordinates( self , x , y , action):\n",
    "        movements = [(0, -1), (0, 1) , (-1 , 0) , (1 , 0)]\n",
    "        move_x , move_y = movements [action - 1]\n",
    "        return (x + move_x , y + move_y)\n",
    "    \n",
    "    #this will take the current coordinates and then return a list of five integers\n",
    "    #first value : probability to remain in that state\n",
    "    #second , third , fourth and fifth value are the probabilities to give to left,right,up,down state if any\n",
    "    def probobalities (self, x , y , action):\n",
    "        #possible actions\n",
    "        \n",
    "        possible = []\n",
    "        for i in range(4):\n",
    "            move_x , move_y = self.movement_coordinates(x , y , i+1)\n",
    "            if ( self.isValid(move_x , move_y)):\n",
    "                possible.append (True)\n",
    "            else:\n",
    "                possible.append (False)\n",
    "        \n",
    "    \n",
    "        #if the given action is valid\n",
    "        move_x , move_y = self.movement_coordinates (x , y , action)\n",
    "        if (self.isValid(move_x , move_y)):\n",
    "            ans = [0 , 0 , 0 , 0, 0]\n",
    "            \n",
    "            \n",
    "            count = 0\n",
    "            for i in possible:\n",
    "                if (i == True):\n",
    "                    count+=1;\n",
    "            \n",
    "            temp = 1 - self.p\n",
    "            ans[0] = temp / count\n",
    "            \n",
    "            for x , i in zip (range (1 , 5) , possible):\n",
    "                if (i == True and not x == action) :\n",
    "                    ans[x] = temp/count\n",
    "            \n",
    "            ans[action] = self.p\n",
    "\n",
    "            return ans\n",
    "        else:\n",
    "            ans = [1 , 0 , 0 , 0, 0]\n",
    "            return ans"
   ]
  },
  {
   "cell_type": "code",
   "execution_count": 41,
   "metadata": {},
   "outputs": [
    {
     "data": {
      "text/plain": [
       "array([[10.,  0.,  0.,  0.,  0.],\n",
       "       [ 0.,  0.,  0.,  0.,  0.],\n",
       "       [ 0.,  0.,  0.,  0.,  0.],\n",
       "       [ 0.,  0.,  0.,  0.,  0.],\n",
       "       [ 0.,  0.,  0.,  0.,  1.]])"
      ]
     },
     "execution_count": 41,
     "metadata": {},
     "output_type": "execute_result"
    }
   ],
   "source": [
    "env = Problem()\n",
    "env.reward                   #this shows the reward function"
   ]
  },
  {
   "cell_type": "code",
   "execution_count": 42,
   "metadata": {},
   "outputs": [
    {
     "name": "stdout",
     "output_type": "stream",
     "text": [
      "2 3\n",
      "[0.024999999999999994, 0.024999999999999994, 0.9, 0.024999999999999994, 0.024999999999999994]\n"
     ]
    }
   ],
   "source": [
    "env.probobalities (2, 2 , 2)\n",
    "move_x , move_y = env.movement_coordinates (2 , 2 , 2)\n",
    "print (move_x , move_y)\n",
    "print (env.probobalities(2,2,2))"
   ]
  },
  {
   "cell_type": "code",
   "execution_count": 43,
   "metadata": {},
   "outputs": [
    {
     "data": {
      "text/plain": [
       "[1, 0, 0, 0, 0]"
      ]
     },
     "execution_count": 43,
     "metadata": {},
     "output_type": "execute_result"
    }
   ],
   "source": [
    "env.probobalities( 1 , 0 , 1)"
   ]
  },
  {
   "cell_type": "code",
   "execution_count": 44,
   "metadata": {},
   "outputs": [],
   "source": [
    "def bellman (old_value):\n",
    "    #this bellman function will update the value of each of the states\n",
    "    infinite_norm = -1\n",
    "    new_values = np.zeros ( (env.n , env.n))\n",
    "    for i in range(env.n):\n",
    "        for j in range(env.n):\n",
    "            #there are foud possible actions \n",
    "            #choose the best one\n",
    "            final_ans = 0\n",
    "            for action in range(1 , 5):\n",
    "                ans =0\n",
    "                probability = env.probobalities(i , j , action)\n",
    "                for index , x in zip (range(5) , probability):\n",
    "                    if (index == 0):\n",
    "                        ans += x * (env.reward[i][j] + env.discount * old_value[i][j])\n",
    "                    else:\n",
    "                        move_x , move_y = env.movement_coordinates (i , j , index)\n",
    "                        if(env.isValid(move_x , move_y)):\n",
    "                            ans += x * (env.reward[move_x][move_y] + env.discount * old_value[move_x][move_y])\n",
    "                \n",
    "                final_ans = max (ans , final_ans)\n",
    "               \n",
    "            new_values[i][j] = final_ans\n",
    "            infinite_norm = max (infinite_norm , abs (new_values[i][j] - old_value[i][j]))\n",
    "    \n",
    "    return (np.copy(new_values) , infinite_norm)\n",
    "        "
   ]
  },
  {
   "cell_type": "code",
   "execution_count": 45,
   "metadata": {},
   "outputs": [
    {
     "name": "stdout",
     "output_type": "stream",
     "text": [
      "[[ 25.000  23.505  13.262  7.485  4.246]\n",
      " [ 23.505  13.479  7.726  4.427  2.557]\n",
      " [ 13.262  7.726  4.431  2.542  1.509]\n",
      " [ 7.485  4.427  2.542  1.504  2.357]\n",
      " [ 4.246  2.557  1.509  2.357  2.500]]\n"
     ]
    }
   ],
   "source": [
    "value_state = np.zeros ((env.n , env.n))      #this is the initialization of the value of each states\n",
    "epsilon = 0.00001\n",
    "infinite_norm = 1000\n",
    "\n",
    "infinity = []\n",
    "while (infinite_norm > epsilon): \n",
    "        value_state , infinite_norm = np.copy(bellman(np.copy (value_state)))                #this is the copy of the previous values\n",
    "        infinity.append(infinite_norm)\n",
    "np.set_printoptions(formatter={'float': '{: 0.3f}'.format})\n",
    "print (value_state)"
   ]
  },
  {
   "cell_type": "code",
   "execution_count": 46,
   "metadata": {},
   "outputs": [
    {
     "data": {
      "text/plain": [
       "Text(0,0.5,'infinity norm')"
      ]
     },
     "execution_count": 46,
     "metadata": {},
     "output_type": "execute_result"
    },
    {
     "data": {
      "image/png": "[encoded data removed]",
      "text/plain": [
       "<Figure size 432x288 with 1 Axes>"
      ]
     },
     "metadata": {},
     "output_type": "display_data"
    }
   ],
   "source": [
    "plt.plot( np.arange (len(infinity)) , infinity)\n",
    "plt.xlabel (\"Iterations\")\n",
    "plt.ylabel (\"infinity norm\")"
   ]
  },
  {
   "cell_type": "code",
   "execution_count": 47,
   "metadata": {},
   "outputs": [
    {
     "name": "stdout",
     "output_type": "stream",
     "text": [
      "< < < < < \n",
      "^ < < < < \n",
      "^ ^ < < ^ \n",
      "^ ^ ^ < v \n",
      "^ ^ < > > \n"
     ]
    }
   ],
   "source": [
    "action_value = [\"<\" , \">\" , \"^\" , \"v\"]\n",
    "for i in range(env.n):\n",
    "    for j in range(env.n):\n",
    "        final = -1\n",
    "        final_action = -1\n",
    "        for action in range(1 , 5):\n",
    "            move_x , move_y = env.movement_coordinates (i , j , action)\n",
    "            if (env.isValid(move_x , move_y)):\n",
    "                if (final < value_state[move_x][move_y] + env.reward[move_x][move_y]):\n",
    "                    final = env.reward[move_x][move_y] + value_state[move_x][move_y]\n",
    "                    final_action = action\n",
    "            else:\n",
    "                if (final < value_state[i][j] + env.reward[i][j]):\n",
    "                    final = value_state[i][j] + env.reward[i][j]\n",
    "                    final_action = action\n",
    "        print (action_value[final_action-1] , end = \" \")\n",
    "    print()"
   ]
  },
  {
   "cell_type": "code",
   "execution_count": 48,
   "metadata": {},
   "outputs": [],
   "source": [
    "#this is for the policy iteration\n",
    "def policyEvaluation (policy):\n",
    "    \n",
    "    new_values = np.zeros ( (env.n , env.n))\n",
    "    infinite_norm = 10000\n",
    "    epsilon = 0.00001\n",
    "    while (infinite_norm > epsilon):\n",
    "        infinite_norm = -1\n",
    "        old_value = np.copy (new_values)\n",
    "        #print (new_values)\n",
    "        for i in range(env.n):\n",
    "            for j in range(env.n):\n",
    "                \n",
    "                action = int(policy[i][j])\n",
    "                ans =0\n",
    "                probability = env.probobalities(i , j , action)\n",
    "                #print (probability)\n",
    "                for index , x in zip (range(5) , probability):\n",
    "                    if (index == 0):\n",
    "                        ans += x * (env.reward[i][j] + env.discount * old_value[i][j])\n",
    "                    else:\n",
    "                        move_x , move_y = env.movement_coordinates (i , j , index)\n",
    "                        if(env.isValid(move_x , move_y)):\n",
    "                            ans += x * (env.reward[move_x][move_y] + env.discount * old_value[move_x][move_y])\n",
    "                new_values[i][j] = ans\n",
    "                infinite_norm = max (infinite_norm , abs (new_values[i][j]- old_value[i][j]))\n",
    "                \n",
    "                \n",
    "        #print (infinite_norm)\n",
    "        \n",
    "        \n",
    "    return new_values"
   ]
  },
  {
   "cell_type": "code",
   "execution_count": 49,
   "metadata": {
    "scrolled": false
   },
   "outputs": [
    {
     "data": {
      "text/plain": [
       "array([[ 25.000,  23.231,  12.956,  7.228,  4.032],\n",
       "       [ 0.000,  0.360,  0.400,  0.334,  0.266],\n",
       "       [ 0.000,  0.006,  0.009,  0.010,  0.012],\n",
       "       [ 0.000,  0.000,  0.000,  0.001,  0.037],\n",
       "       [ 0.000,  0.000,  0.001,  0.036,  0.073]])"
      ]
     },
     "execution_count": 49,
     "metadata": {},
     "output_type": "execute_result"
    }
   ],
   "source": [
    "policy = np.array ([[1,1,1,1,1],\n",
    "                   [1,1,1,1,1],\n",
    "                   [3,1,1,1,1],\n",
    "                   [3,1,1,1,1],\n",
    "                   [3,1,1,1,1]])\n",
    "temp = policyEvaluation(policy)\n",
    "temp"
   ]
  },
  {
   "cell_type": "code",
   "execution_count": 50,
   "metadata": {},
   "outputs": [],
   "source": [
    "def updatePolicy (value_function):\n",
    "    policy = np.zeros ((env.n , env.n))\n",
    "    for i in range(env.n):\n",
    "        for j in range(env.n):\n",
    "            final = -1\n",
    "            final_action = -1\n",
    "            for action in range(1 , 5):\n",
    "                move_x , move_y = env.movement_coordinates (i, j , action)\n",
    "                if (env.isValid (move_x , move_y)):\n",
    "                    if (final < env.reward[move_x][move_y] + value_function[move_x][move_y]):\n",
    "                        final = value_function[move_x][move_y] + env.reward[move_x][move_y]\n",
    "                        final_action = action\n",
    "                else:\n",
    "                    if (final < env.reward[i][j]  +  value_function[i][j]):\n",
    "                        final = value_function[i][j] + env.reward[i][j]\n",
    "                        final_action = action\n",
    "            policy[i][j] = final_action\n",
    "        \n",
    "    return policy\n",
    "            "
   ]
  },
  {
   "cell_type": "code",
   "execution_count": 51,
   "metadata": {},
   "outputs": [
    {
     "name": "stdout",
     "output_type": "stream",
     "text": [
      "new policy : \n",
      " [[ 1.000  1.000  1.000  1.000  1.000]\n",
      " [ 3.000  1.000  1.000  1.000  1.000]\n",
      " [ 3.000  3.000  1.000  1.000  3.000]\n",
      " [ 3.000  3.000  3.000  1.000  4.000]\n",
      " [ 3.000  3.000  1.000  2.000  2.000]]\n",
      "new values : \n",
      " [[ 25.000  23.505  13.262  7.485  4.246]\n",
      " [ 23.505  13.479  7.726  4.427  2.557]\n",
      " [ 13.262  7.726  4.431  2.542  1.509]\n",
      " [ 7.485  4.427  2.542  1.504  2.357]\n",
      " [ 4.246  2.557  1.509  2.357  2.500]]\n",
      "\n"
     ]
    }
   ],
   "source": [
    "#this is the block for the policy_iteration\n",
    "current_policy = np.ones ((env.n , env.n))\n",
    "new_policy = np.ones ((env.n , env.n))\n",
    "current_values = np.ones ((env.n , env.n))\n",
    "while (1):\n",
    "    current_values = policyEvaluation (current_policy)\n",
    "    new_policy = updatePolicy(current_values)\n",
    "    #print (new_policy)\n",
    "    #print (current_policy)\n",
    "    #print (\"\\n\\n\")\n",
    "    if (np.array_equal (current_policy , new_policy)):\n",
    "        break\n",
    "    current_policy = np.copy (new_policy)\n",
    "    \n",
    "print (\"new policy : \\n\" , new_policy)\n",
    "print (\"new values : \\n\" , current_values )\n",
    "print ()"
   ]
  },
  {
   "cell_type": "code",
   "execution_count": null,
   "metadata": {},
   "outputs": [],
   "source": []
  }
 ],
 "metadata": {
  "kernelspec": {
   "display_name": "Python 3",
   "language": "python",
   "name": "python3"
  },
  "language_info": {
   "codemirror_mode": {
    "name": "ipython",
    "version": 3
   },
   "file_extension": ".py",
   "mimetype": "text/x-python",
   "name": "python",
   "nbconvert_exporter": "python",
   "pygments_lexer": "ipython3",
   "version": "3.6.5"
  }
 },
 "nbformat": 4,
 "nbformat_minor": 2
}
